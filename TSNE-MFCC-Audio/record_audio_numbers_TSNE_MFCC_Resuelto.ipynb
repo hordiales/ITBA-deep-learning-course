{
  "nbformat": 4,
  "nbformat_minor": 0,
  "metadata": {
    "colab": {
      "provenance": []
    },
    "kernelspec": {
      "name": "python3",
      "display_name": "Python 3"
    }
  },
  "cells": [
    {
      "cell_type": "code",
      "metadata": {
        "id": "A9kIl0zaWHhd",
        "outputId": "f2073643-8cd0-4f3a-d9fc-41df5082bb25",
        "colab": {
          "base_uri": "https://localhost:8080/"
        }
      },
      "source": [
        "!pip install librosa"
      ],
      "execution_count": null,
      "outputs": [
        {
          "output_type": "stream",
          "name": "stdout",
          "text": [
            "Requirement already satisfied: librosa in /usr/local/lib/python3.10/dist-packages (0.10.0.post2)\n",
            "Requirement already satisfied: audioread>=2.1.9 in /usr/local/lib/python3.10/dist-packages (from librosa) (3.0.0)\n",
            "Requirement already satisfied: numpy!=1.22.0,!=1.22.1,!=1.22.2,>=1.20.3 in /usr/local/lib/python3.10/dist-packages (from librosa) (1.23.5)\n",
            "Requirement already satisfied: scipy>=1.2.0 in /usr/local/lib/python3.10/dist-packages (from librosa) (1.10.1)\n",
            "Requirement already satisfied: scikit-learn>=0.20.0 in /usr/local/lib/python3.10/dist-packages (from librosa) (1.2.2)\n",
            "Requirement already satisfied: joblib>=0.14 in /usr/local/lib/python3.10/dist-packages (from librosa) (1.3.2)\n",
            "Requirement already satisfied: decorator>=4.3.0 in /usr/local/lib/python3.10/dist-packages (from librosa) (4.4.2)\n",
            "Requirement already satisfied: numba>=0.51.0 in /usr/local/lib/python3.10/dist-packages (from librosa) (0.56.4)\n",
            "Requirement already satisfied: soundfile>=0.12.1 in /usr/local/lib/python3.10/dist-packages (from librosa) (0.12.1)\n",
            "Requirement already satisfied: pooch<1.7,>=1.0 in /usr/local/lib/python3.10/dist-packages (from librosa) (1.6.0)\n",
            "Requirement already satisfied: soxr>=0.3.2 in /usr/local/lib/python3.10/dist-packages (from librosa) (0.3.6)\n",
            "Requirement already satisfied: typing-extensions>=4.1.1 in /usr/local/lib/python3.10/dist-packages (from librosa) (4.7.1)\n",
            "Requirement already satisfied: lazy-loader>=0.1 in /usr/local/lib/python3.10/dist-packages (from librosa) (0.3)\n",
            "Requirement already satisfied: msgpack>=1.0 in /usr/local/lib/python3.10/dist-packages (from librosa) (1.0.5)\n",
            "Requirement already satisfied: llvmlite<0.40,>=0.39.0dev0 in /usr/local/lib/python3.10/dist-packages (from numba>=0.51.0->librosa) (0.39.1)\n",
            "Requirement already satisfied: setuptools in /usr/local/lib/python3.10/dist-packages (from numba>=0.51.0->librosa) (67.7.2)\n",
            "Requirement already satisfied: appdirs>=1.3.0 in /usr/local/lib/python3.10/dist-packages (from pooch<1.7,>=1.0->librosa) (1.4.4)\n",
            "Requirement already satisfied: packaging>=20.0 in /usr/local/lib/python3.10/dist-packages (from pooch<1.7,>=1.0->librosa) (23.1)\n",
            "Requirement already satisfied: requests>=2.19.0 in /usr/local/lib/python3.10/dist-packages (from pooch<1.7,>=1.0->librosa) (2.31.0)\n",
            "Requirement already satisfied: threadpoolctl>=2.0.0 in /usr/local/lib/python3.10/dist-packages (from scikit-learn>=0.20.0->librosa) (3.2.0)\n",
            "Requirement already satisfied: cffi>=1.0 in /usr/local/lib/python3.10/dist-packages (from soundfile>=0.12.1->librosa) (1.15.1)\n",
            "Requirement already satisfied: pycparser in /usr/local/lib/python3.10/dist-packages (from cffi>=1.0->soundfile>=0.12.1->librosa) (2.21)\n",
            "Requirement already satisfied: charset-normalizer<4,>=2 in /usr/local/lib/python3.10/dist-packages (from requests>=2.19.0->pooch<1.7,>=1.0->librosa) (3.2.0)\n",
            "Requirement already satisfied: idna<4,>=2.5 in /usr/local/lib/python3.10/dist-packages (from requests>=2.19.0->pooch<1.7,>=1.0->librosa) (3.4)\n",
            "Requirement already satisfied: urllib3<3,>=1.21.1 in /usr/local/lib/python3.10/dist-packages (from requests>=2.19.0->pooch<1.7,>=1.0->librosa) (2.0.4)\n",
            "Requirement already satisfied: certifi>=2017.4.17 in /usr/local/lib/python3.10/dist-packages (from requests>=2.19.0->pooch<1.7,>=1.0->librosa) (2023.7.22)\n"
          ]
        }
      ]
    },
    {
      "cell_type": "code",
      "metadata": {
        "id": "4YhhDIfxWOE9"
      },
      "source": [
        "import librosa\n",
        "from IPython.display import Audio\n",
        "from matplotlib import pyplot as plt\n",
        "import seaborn as sns"
      ],
      "execution_count": null,
      "outputs": []
    },
    {
      "cell_type": "code",
      "metadata": {
        "id": "mBTZ4aRf4dZ0"
      },
      "source": [
        "# all imports\n",
        "from IPython.display import Javascript\n",
        "from google.colab import output\n",
        "from base64 import b64decode\n",
        "from io import BytesIO\n",
        "!pip -q install pydub\n",
        "from pydub import AudioSegment\n",
        "import numpy as np\n",
        "import time\n",
        "\n",
        "RECORD = \"\"\"\n",
        "const sleep  = time => new Promise(resolve => setTimeout(resolve, time))\n",
        "const b2text = blob => new Promise(resolve => {\n",
        "  const reader = new FileReader()\n",
        "  reader.onloadend = e => resolve(e.srcElement.result)\n",
        "  reader.readAsDataURL(blob)\n",
        "})\n",
        "var record = time => new Promise(async resolve => {\n",
        "  stream = await navigator.mediaDevices.getUserMedia({ audio: true })\n",
        "  recorder = new MediaRecorder(stream)\n",
        "  chunks = []\n",
        "  recorder.ondataavailable = e => chunks.push(e.data)\n",
        "  recorder.start()\n",
        "  await sleep(time)\n",
        "  recorder.onstop = async ()=>{\n",
        "    blob = new Blob(chunks)\n",
        "    text = await b2text(blob)\n",
        "    resolve(text)\n",
        "  }\n",
        "  recorder.stop()\n",
        "})\n",
        "\"\"\"\n",
        "\n",
        "def record(sec=3):\n",
        "  display(Javascript(RECORD))\n",
        "  s = output.eval_js('record(%d)' % (sec*1000))\n",
        "  b = b64decode(s.split(',')[1])\n",
        "  audio = AudioSegment.from_file(BytesIO(b))\n",
        "  return audio\n",
        "\n",
        "def capture_sounds(nbr_records=5,sounds=[\"cero\",\"uno\",\"dos\",\"tres\",\"cuatro\",\"cinco\",\"seis\",\"siete\",\"ocho\",\"nueve\"]):\n",
        "  file_list=list()\n",
        "  for sound in sounds:\n",
        "    text=\"Por favor diga una vez la palabra '{}' después de cada indicación\".format(sound)\n",
        "    print(text)\n",
        "    time.sleep(1)\n",
        "    for nbr in range(nbr_records):\n",
        "      print(\"Diga {}\".format(sound))\n",
        "      audio=record(1)\n",
        "      audio.export(\"{}_{}.mp3\".format(sound,nbr),format=\"mp3\")\n",
        "      file_list.append(\"{}_{}.mp3\".format(sound,nbr))\n",
        "  return file_list\n",
        "\n"
      ],
      "execution_count": null,
      "outputs": []
    },
    {
      "cell_type": "code",
      "metadata": {
        "id": "nwQNpSj1WT5w"
      },
      "source": [
        "file_list=capture_sounds()"
      ],
      "execution_count": null,
      "outputs": []
    },
    {
      "cell_type": "code",
      "source": [
        "! ls"
      ],
      "metadata": {
        "colab": {
          "base_uri": "https://localhost:8080/"
        },
        "id": "uxIgGfbiUUfu",
        "outputId": "d56e7187-d4c5-4f47-b1ea-1c49b3364c76"
      },
      "execution_count": null,
      "outputs": [
        {
          "output_type": "stream",
          "name": "stdout",
          "text": [
            "cero_0.mp3   cinco_4.mp3   dos_3.mp3\tocho_2.mp3   siete_0.mp3  tres_4.mp3\n",
            "cero_1.mp3   cuatro_0.mp3  dos_4.mp3\tocho_3.mp3   siete_1.mp3  uno_0.mp3\n",
            "cero_2.mp3   cuatro_1.mp3  nueve_0.mp3\tocho_4.mp3   siete_2.mp3  uno_1.mp3\n",
            "cero_3.mp3   cuatro_2.mp3  nueve_1.mp3\tsample_data  siete_3.mp3  uno_2.mp3\n",
            "cero_4.mp3   cuatro_3.mp3  nueve_2.mp3\tseis_0.mp3   siete_4.mp3  uno_3.mp3\n",
            "cinco_0.mp3  cuatro_4.mp3  nueve_3.mp3\tseis_1.mp3   tres_0.mp3   uno_4.mp3\n",
            "cinco_1.mp3  dos_0.mp3\t   nueve_4.mp3\tseis_2.mp3   tres_1.mp3\n",
            "cinco_2.mp3  dos_1.mp3\t   ocho_0.mp3\tseis_3.mp3   tres_2.mp3\n",
            "cinco_3.mp3  dos_2.mp3\t   ocho_1.mp3\tseis_4.mp3   tres_3.mp3\n"
          ]
        }
      ]
    },
    {
      "cell_type": "code",
      "source": [
        "print(file_list)"
      ],
      "metadata": {
        "colab": {
          "base_uri": "https://localhost:8080/"
        },
        "id": "VkHKJGb5R2ne",
        "outputId": "feea296a-9b70-4936-9881-785a34e339f1"
      },
      "execution_count": null,
      "outputs": [
        {
          "output_type": "stream",
          "name": "stdout",
          "text": [
            "['cero_0.mp3', 'cero_1.mp3', 'cero_2.mp3', 'cero_3.mp3', 'cero_4.mp3', 'uno_0.mp3', 'uno_1.mp3', 'uno_2.mp3', 'uno_3.mp3', 'uno_4.mp3', 'dos_0.mp3', 'dos_1.mp3', 'dos_2.mp3', 'dos_3.mp3', 'dos_4.mp3', 'tres_0.mp3', 'tres_1.mp3', 'tres_2.mp3', 'tres_3.mp3', 'tres_4.mp3', 'cuatro_0.mp3', 'cuatro_1.mp3', 'cuatro_2.mp3', 'cuatro_3.mp3', 'cuatro_4.mp3', 'cinco_0.mp3', 'cinco_1.mp3', 'cinco_2.mp3', 'cinco_3.mp3', 'cinco_4.mp3', 'seis_0.mp3', 'seis_1.mp3', 'seis_2.mp3', 'seis_3.mp3', 'seis_4.mp3', 'siete_0.mp3', 'siete_1.mp3', 'siete_2.mp3', 'siete_3.mp3', 'siete_4.mp3', 'ocho_0.mp3', 'ocho_1.mp3', 'ocho_2.mp3', 'ocho_3.mp3', 'ocho_4.mp3', 'nueve_0.mp3', 'nueve_1.mp3', 'nueve_2.mp3', 'nueve_3.mp3', 'nueve_4.mp3']\n"
          ]
        }
      ]
    },
    {
      "cell_type": "code",
      "source": [
        "# prueba\n",
        "audio_cero_cero, sr = librosa.load(\"cero_0.mp3\")\n",
        "print(sr)\n",
        "print(len(audio_cero_cero))"
      ],
      "metadata": {
        "colab": {
          "base_uri": "https://localhost:8080/"
        },
        "id": "DYmao5hsT--c",
        "outputId": "8b61847e-9394-4629-8a47-5ce57a007e83"
      },
      "execution_count": null,
      "outputs": [
        {
          "output_type": "stream",
          "name": "stdout",
          "text": [
            "22050\n",
            "21168\n"
          ]
        }
      ]
    },
    {
      "cell_type": "code",
      "source": [
        "Audio(data=audio_cero_cero, rate=sr)"
      ],
      "metadata": {
        "colab": {
          "base_uri": "https://localhost:8080/",
          "height": 75
        },
        "id": "ZCbITiNMUD-N",
        "outputId": "43ad4261-5a18-4002-dbd4-6b88362cf6c2"
      },
      "execution_count": null,
      "outputs": [
        {
          "output_type": "execute_result",
          "data": {
            "text/plain": [
              "<IPython.lib.display.Audio object>"
            ],
            "text/html": [
              "\n",
              "                <audio  controls=\"controls\" >\n",
              "                    <source src=\"data:audio/wav;base64,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\" type=\"audio/wav\" />\n",
              "                    Your browser does not support the audio element.\n",
              "                </audio>\n",
              "              "
            ]
          },
          "metadata": {},
          "execution_count": 57
        }
      ]
    },
    {
      "cell_type": "code",
      "source": [
        "audio_nueve_uno, sr = librosa.load(\"nueve_1.mp3\")\n",
        "print(len(audio_nueve_uno))"
      ],
      "metadata": {
        "id": "Legj_ztaZYgS",
        "outputId": "3af13560-58ce-401f-fe4e-e11db13cb206",
        "colab": {
          "base_uri": "https://localhost:8080/"
        }
      },
      "execution_count": null,
      "outputs": [
        {
          "output_type": "stream",
          "name": "stdout",
          "text": [
            "21168\n"
          ]
        }
      ]
    },
    {
      "cell_type": "code",
      "source": [
        "!ls -lH"
      ],
      "metadata": {
        "colab": {
          "base_uri": "https://localhost:8080/"
        },
        "id": "_1uTbirqR5uG",
        "outputId": "04478bde-3872-42a2-ca11-fe92ab85f744"
      },
      "execution_count": null,
      "outputs": [
        {
          "output_type": "stream",
          "name": "stdout",
          "text": [
            "total 432\n",
            "-rw-r--r-- 1 root root  7725 Aug 18 01:44 cero_0.mp3\n",
            "-rw-r--r-- 1 root root  8109 Aug 18 01:44 cero_1.mp3\n",
            "-rw-r--r-- 1 root root  8109 Aug 18 01:44 cero_2.mp3\n",
            "-rw-r--r-- 1 root root  8109 Aug 18 01:44 cero_3.mp3\n",
            "-rw-r--r-- 1 root root  8109 Aug 18 01:44 cero_4.mp3\n",
            "-rw-r--r-- 1 root root  8109 Aug 18 01:15 cinco_0.mp3\n",
            "-rw-r--r-- 1 root root  8109 Aug 18 01:15 cinco_1.mp3\n",
            "-rw-r--r-- 1 root root  8109 Aug 18 01:15 cinco_2.mp3\n",
            "-rw-r--r-- 1 root root  8109 Aug 18 01:15 cinco_3.mp3\n",
            "-rw-r--r-- 1 root root  8109 Aug 18 01:15 cinco_4.mp3\n",
            "-rw-r--r-- 1 root root  8109 Aug 18 01:14 cuatro_0.mp3\n",
            "-rw-r--r-- 1 root root  8109 Aug 18 01:14 cuatro_1.mp3\n",
            "-rw-r--r-- 1 root root  8109 Aug 18 01:14 cuatro_2.mp3\n",
            "-rw-r--r-- 1 root root  8109 Aug 18 01:14 cuatro_3.mp3\n",
            "-rw-r--r-- 1 root root  8109 Aug 18 01:15 cuatro_4.mp3\n",
            "-rw-r--r-- 1 root root 15405 Aug 18 01:44 dos_0.mp3\n",
            "-rw-r--r-- 1 root root  8109 Aug 18 01:44 dos_1.mp3\n",
            "-rw-r--r-- 1 root root 15789 Aug 18 01:44 dos_2.mp3\n",
            "-rw-r--r-- 1 root root  8109 Aug 18 01:44 dos_3.mp3\n",
            "-rw-r--r-- 1 root root  8109 Aug 18 01:44 dos_4.mp3\n",
            "-rw-r--r-- 1 root root  8109 Aug 18 01:15 nueve_0.mp3\n",
            "-rw-r--r-- 1 root root  8109 Aug 18 01:15 nueve_1.mp3\n",
            "-rw-r--r-- 1 root root  8109 Aug 18 01:15 nueve_2.mp3\n",
            "-rw-r--r-- 1 root root  8109 Aug 18 01:15 nueve_3.mp3\n",
            "-rw-r--r-- 1 root root  8109 Aug 18 01:15 nueve_4.mp3\n",
            "-rw-r--r-- 1 root root  8109 Aug 18 01:15 ocho_0.mp3\n",
            "-rw-r--r-- 1 root root  8109 Aug 18 01:15 ocho_1.mp3\n",
            "-rw-r--r-- 1 root root  8109 Aug 18 01:15 ocho_2.mp3\n",
            "-rw-r--r-- 1 root root  8109 Aug 18 01:15 ocho_3.mp3\n",
            "-rw-r--r-- 1 root root  8109 Aug 18 01:15 ocho_4.mp3\n",
            "drwxr-xr-x 1 root root  4096 Aug 16 13:42 sample_data\n",
            "-rw-r--r-- 1 root root  8109 Aug 18 01:15 seis_0.mp3\n",
            "-rw-r--r-- 1 root root  8109 Aug 18 01:15 seis_1.mp3\n",
            "-rw-r--r-- 1 root root  8109 Aug 18 01:15 seis_2.mp3\n",
            "-rw-r--r-- 1 root root  8109 Aug 18 01:15 seis_3.mp3\n",
            "-rw-r--r-- 1 root root  8109 Aug 18 01:15 seis_4.mp3\n",
            "-rw-r--r-- 1 root root  8109 Aug 18 01:15 siete_0.mp3\n",
            "-rw-r--r-- 1 root root  8109 Aug 18 01:15 siete_1.mp3\n",
            "-rw-r--r-- 1 root root  8109 Aug 18 01:15 siete_2.mp3\n",
            "-rw-r--r-- 1 root root  8109 Aug 18 01:15 siete_3.mp3\n",
            "-rw-r--r-- 1 root root  8109 Aug 18 01:15 siete_4.mp3\n",
            "-rw-r--r-- 1 root root  8109 Aug 18 01:44 tres_0.mp3\n",
            "-rw-r--r-- 1 root root  8109 Aug 18 01:14 tres_1.mp3\n",
            "-rw-r--r-- 1 root root  8109 Aug 18 01:14 tres_2.mp3\n",
            "-rw-r--r-- 1 root root  8109 Aug 18 01:14 tres_3.mp3\n",
            "-rw-r--r-- 1 root root  8109 Aug 18 01:14 tres_4.mp3\n",
            "-rw-r--r-- 1 root root  8109 Aug 18 01:44 uno_0.mp3\n",
            "-rw-r--r-- 1 root root  8109 Aug 18 01:44 uno_1.mp3\n",
            "-rw-r--r-- 1 root root  8109 Aug 18 01:44 uno_2.mp3\n",
            "-rw-r--r-- 1 root root 12525 Aug 18 01:44 uno_3.mp3\n",
            "-rw-r--r-- 1 root root  8685 Aug 18 01:44 uno_4.mp3\n"
          ]
        }
      ]
    },
    {
      "cell_type": "code",
      "source": [
        "!cp cero_1.mp3 cero_0.mp3 # hack para que queden todos los mp3 del mismo largo (vectores) y poder avanzar"
      ],
      "metadata": {
        "id": "53v-BnWySJrM"
      },
      "execution_count": null,
      "outputs": []
    },
    {
      "cell_type": "code",
      "source": [
        "! ls -lh"
      ],
      "metadata": {
        "colab": {
          "base_uri": "https://localhost:8080/"
        },
        "id": "3pJ0KL6HUcxF",
        "outputId": "5b362640-9b9a-42fc-afc4-41d18d341ff3"
      },
      "execution_count": null,
      "outputs": [
        {
          "output_type": "stream",
          "name": "stdout",
          "text": [
            "total 432K\n",
            "-rw-r--r-- 1 root root 8.0K Aug 18 01:45 cero_0.mp3\n",
            "-rw-r--r-- 1 root root 8.0K Aug 18 01:44 cero_1.mp3\n",
            "-rw-r--r-- 1 root root 8.0K Aug 18 01:44 cero_2.mp3\n",
            "-rw-r--r-- 1 root root 8.0K Aug 18 01:44 cero_3.mp3\n",
            "-rw-r--r-- 1 root root 8.0K Aug 18 01:44 cero_4.mp3\n",
            "-rw-r--r-- 1 root root 8.0K Aug 18 01:15 cinco_0.mp3\n",
            "-rw-r--r-- 1 root root 8.0K Aug 18 01:15 cinco_1.mp3\n",
            "-rw-r--r-- 1 root root 8.0K Aug 18 01:15 cinco_2.mp3\n",
            "-rw-r--r-- 1 root root 8.0K Aug 18 01:15 cinco_3.mp3\n",
            "-rw-r--r-- 1 root root 8.0K Aug 18 01:15 cinco_4.mp3\n",
            "-rw-r--r-- 1 root root 8.0K Aug 18 01:14 cuatro_0.mp3\n",
            "-rw-r--r-- 1 root root 8.0K Aug 18 01:14 cuatro_1.mp3\n",
            "-rw-r--r-- 1 root root 8.0K Aug 18 01:14 cuatro_2.mp3\n",
            "-rw-r--r-- 1 root root 8.0K Aug 18 01:14 cuatro_3.mp3\n",
            "-rw-r--r-- 1 root root 8.0K Aug 18 01:15 cuatro_4.mp3\n",
            "-rw-r--r-- 1 root root  16K Aug 18 01:44 dos_0.mp3\n",
            "-rw-r--r-- 1 root root 8.0K Aug 18 01:44 dos_1.mp3\n",
            "-rw-r--r-- 1 root root  16K Aug 18 01:44 dos_2.mp3\n",
            "-rw-r--r-- 1 root root 8.0K Aug 18 01:44 dos_3.mp3\n",
            "-rw-r--r-- 1 root root 8.0K Aug 18 01:44 dos_4.mp3\n",
            "-rw-r--r-- 1 root root 8.0K Aug 18 01:15 nueve_0.mp3\n",
            "-rw-r--r-- 1 root root 8.0K Aug 18 01:15 nueve_1.mp3\n",
            "-rw-r--r-- 1 root root 8.0K Aug 18 01:15 nueve_2.mp3\n",
            "-rw-r--r-- 1 root root 8.0K Aug 18 01:15 nueve_3.mp3\n",
            "-rw-r--r-- 1 root root 8.0K Aug 18 01:15 nueve_4.mp3\n",
            "-rw-r--r-- 1 root root 8.0K Aug 18 01:15 ocho_0.mp3\n",
            "-rw-r--r-- 1 root root 8.0K Aug 18 01:15 ocho_1.mp3\n",
            "-rw-r--r-- 1 root root 8.0K Aug 18 01:15 ocho_2.mp3\n",
            "-rw-r--r-- 1 root root 8.0K Aug 18 01:15 ocho_3.mp3\n",
            "-rw-r--r-- 1 root root 8.0K Aug 18 01:15 ocho_4.mp3\n",
            "drwxr-xr-x 1 root root 4.0K Aug 16 13:42 sample_data\n",
            "-rw-r--r-- 1 root root 8.0K Aug 18 01:15 seis_0.mp3\n",
            "-rw-r--r-- 1 root root 8.0K Aug 18 01:15 seis_1.mp3\n",
            "-rw-r--r-- 1 root root 8.0K Aug 18 01:15 seis_2.mp3\n",
            "-rw-r--r-- 1 root root 8.0K Aug 18 01:15 seis_3.mp3\n",
            "-rw-r--r-- 1 root root 8.0K Aug 18 01:15 seis_4.mp3\n",
            "-rw-r--r-- 1 root root 8.0K Aug 18 01:15 siete_0.mp3\n",
            "-rw-r--r-- 1 root root 8.0K Aug 18 01:15 siete_1.mp3\n",
            "-rw-r--r-- 1 root root 8.0K Aug 18 01:15 siete_2.mp3\n",
            "-rw-r--r-- 1 root root 8.0K Aug 18 01:15 siete_3.mp3\n",
            "-rw-r--r-- 1 root root 8.0K Aug 18 01:15 siete_4.mp3\n",
            "-rw-r--r-- 1 root root 8.0K Aug 18 01:44 tres_0.mp3\n",
            "-rw-r--r-- 1 root root 8.0K Aug 18 01:14 tres_1.mp3\n",
            "-rw-r--r-- 1 root root 8.0K Aug 18 01:14 tres_2.mp3\n",
            "-rw-r--r-- 1 root root 8.0K Aug 18 01:14 tres_3.mp3\n",
            "-rw-r--r-- 1 root root 8.0K Aug 18 01:14 tres_4.mp3\n",
            "-rw-r--r-- 1 root root 8.0K Aug 18 01:44 uno_0.mp3\n",
            "-rw-r--r-- 1 root root 8.0K Aug 18 01:44 uno_1.mp3\n",
            "-rw-r--r-- 1 root root 8.0K Aug 18 01:44 uno_2.mp3\n",
            "-rw-r--r-- 1 root root  13K Aug 18 01:44 uno_3.mp3\n",
            "-rw-r--r-- 1 root root 8.5K Aug 18 01:44 uno_4.mp3\n"
          ]
        }
      ]
    },
    {
      "cell_type": "code",
      "metadata": {
        "id": "4ZKyjMLEXqJN"
      },
      "source": [
        "#Cargamos todos los audios generados anteriormente en una lista\n",
        "audios=list()\n",
        "for file in file_list:\n",
        "  audios.append(librosa.load(file)[0])\n",
        "audios=np.array(audios)"
      ],
      "execution_count": null,
      "outputs": []
    },
    {
      "cell_type": "code",
      "metadata": {
        "id": "KwVPY-ltX7ji"
      },
      "source": [
        "#Calculamos los mfcc para cada uno de los audios\n",
        "mfccs=list()\n",
        "for audio in audios:\n",
        "  mfccs.append( librosa.feature.mfcc(y=audio,sr=22050,n_mfcc=20) )\n"
      ],
      "execution_count": null,
      "outputs": []
    },
    {
      "cell_type": "code",
      "metadata": {
        "id": "faLZG8xAU5Vd"
      },
      "source": [
        "#Generamos los labels para el clasificador\n",
        "labels=list()\n",
        "for i in range(10):\n",
        "  for j in range(5):\n",
        "    labels.append(i)\n",
        "labels=np.array(labels)"
      ],
      "execution_count": null,
      "outputs": []
    },
    {
      "cell_type": "code",
      "metadata": {
        "id": "ZWDJoB4kYhzH"
      },
      "source": [
        "#A partir de los mfcc generamos los features de entrada, que van a ser los promedios de cada uno de los mfcc\n",
        "features=list()\n",
        "for mfcc in mfccs:\n",
        "  features.append(mfcc.mean(axis=1))\n",
        "features=np.array(features)"
      ],
      "execution_count": null,
      "outputs": []
    },
    {
      "cell_type": "code",
      "source": [
        "print(features[0].shape)\n",
        "print(len(features))\n",
        "print(mfccs[0].shape)"
      ],
      "metadata": {
        "colab": {
          "base_uri": "https://localhost:8080/"
        },
        "id": "KBSytaUuTzsX",
        "outputId": "2143b8a5-31e2-4c2a-fab8-a43e377a7f56"
      },
      "execution_count": null,
      "outputs": [
        {
          "output_type": "stream",
          "name": "stdout",
          "text": [
            "(20,)\n",
            "50\n",
            "(20, 42)\n"
          ]
        }
      ]
    },
    {
      "cell_type": "markdown",
      "source": [
        "**Importante: **\n",
        "\n",
        "Con un array cuyo shape es (20,42), donde cada fila corresponde a una banda de frecuencias y cada columna a una franja temporal.\n",
        "\n",
        "porque son 20 features por audio, 20 mfcc\n",
        "\n",
        "mfcc_1 = t1, t2, t3,\n",
        "\n",
        "mfcc_2 = t1, t2, t3 etc"
      ],
      "metadata": {
        "id": "dCz0z7cOVfGY"
      }
    },
    {
      "cell_type": "markdown",
      "metadata": {
        "id": "x2XoM3R2yX96"
      },
      "source": [
        "# Comparemos las características de clustering del audio sin procesar y de los MFCC"
      ]
    },
    {
      "cell_type": "code",
      "metadata": {
        "id": "OeQIQr8bZI7J"
      },
      "source": [
        "from sklearn.manifold import TSNE\n",
        "\n",
        "tsn = TSNE(n_components=2,perplexity=20,n_iter=10000)\n"
      ],
      "execution_count": null,
      "outputs": []
    },
    {
      "cell_type": "code",
      "source": [
        "X = tsn.fit_transform(audios)"
      ],
      "metadata": {
        "id": "1-W3D3hTQ-hj"
      },
      "execution_count": null,
      "outputs": []
    },
    {
      "cell_type": "code",
      "source": [
        "for idx in range(10):\n",
        "  plt.scatter(X[idx*5:(idx+1)*5,0],X[idx*5:(idx+1)*5,1])\n",
        "  for pnt in range(5):\n",
        "    plt.text(X[idx*5+pnt,0],X[idx*5+pnt,1],s=str(idx)+\"-\"+str(pnt))\n",
        "plt.title(\"T-SNE de los vectores de audio\")"
      ],
      "metadata": {
        "colab": {
          "base_uri": "https://localhost:8080/",
          "height": 469
        },
        "id": "WiTLiQLtRCsa",
        "outputId": "2739e336-b0b8-401b-aaac-b38ba2063ac7"
      },
      "execution_count": null,
      "outputs": [
        {
          "output_type": "execute_result",
          "data": {
            "text/plain": [
              "Text(0.5, 1.0, 'T-SNE de los vectores de audio')"
            ]
          },
          "metadata": {},
          "execution_count": 37
        },
        {
          "output_type": "display_data",
          "data": {
            "text/plain": [
              "<Figure size 640x480 with 1 Axes>"
            ],
            "image/png": "[encoded data removed]"
          },
          "metadata": {}
        }
      ]
    },
    {
      "cell_type": "code",
      "metadata": {
        "id": "4AyxrtdEym3J",
        "outputId": "b37be29b-29fa-4629-9a1a-e35299aa0a81",
        "colab": {
          "base_uri": "https://localhost:8080/",
          "height": 469
        }
      },
      "source": [
        "#x = features\n",
        "#X=tsn.fit_transform(x.todense())\n",
        "X=tsn.fit_transform(features)\n",
        "\n",
        "for idx in range(10):\n",
        "  plt.scatter(X[idx*5:(idx+1)*5,0],X[idx*5:(idx+1)*5,1])\n",
        "  for pnt in range(5):\n",
        "    plt.text(X[idx*5+pnt,0],X[idx*5+pnt,1],s=str(idx)+\"-\"+str(pnt))\n",
        "plt.title(\"T-SNE de los vectores de features\")"
      ],
      "execution_count": null,
      "outputs": [
        {
          "output_type": "execute_result",
          "data": {
            "text/plain": [
              "Text(0.5, 1.0, 'T-SNE de los vectores de features')"
            ]
          },
          "metadata": {},
          "execution_count": 43
        },
        {
          "output_type": "display_data",
          "data": {
            "text/plain": [
              "<Figure size 640x480 with 1 Axes>"
            ],
            "image/png": "[encoded data removed]"
          },
          "metadata": {}
        }
      ]
    },
    {
      "cell_type": "code",
      "metadata": {
        "id": "bS25ZemSXV_9",
        "outputId": "37ef5b32-e8a7-4a23-ba70-f4a9a8c2c69e",
        "colab": {
          "base_uri": "https://localhost:8080/"
        }
      },
      "source": [
        "# LogisticRegression\n",
        "\n",
        "from sklearn.linear_model import LogisticRegression\n",
        "from sklearn.model_selection import StratifiedKFold\n",
        "skf = StratifiedKFold(n_splits=5)\n",
        "for train_index, test_index in skf.split(audios, labels):\n",
        "  X_train, X_test = audios[train_index], audios[test_index]\n",
        "  y_train, y_test = labels[train_index], labels[test_index]\n",
        "  clf=LogisticRegression(C=1,solver=\"lbfgs\",multi_class=\"multinomial\",max_iter=10000)\n",
        "  clf.fit(X_train,y_train)\n",
        "  print(clf.score(X_test,y_test))"
      ],
      "execution_count": null,
      "outputs": [
        {
          "output_type": "stream",
          "name": "stdout",
          "text": [
            "0.1\n",
            "0.1\n",
            "0.1\n",
            "0.1\n",
            "0.2\n"
          ]
        }
      ]
    },
    {
      "cell_type": "code",
      "metadata": {
        "id": "tCNMmp2z63DH",
        "outputId": "eb0dd156-76d3-49b5-e6bf-b977c178c043",
        "colab": {
          "base_uri": "https://localhost:8080/",
          "height": 102
        }
      },
      "source": [
        "# SVC\n",
        "from sklearn.svm import SVC\n",
        "skf = StratifiedKFold(n_splits=5)\n",
        "for train_index, test_index in skf.split(audios, labels):\n",
        "  X_train, X_test = audios[train_index], audios[test_index]\n",
        "  y_train, y_test = labels[train_index], labels[test_index]\n",
        "  clf=SVC(kernel=\"rbf\",max_iter=10000,gamma=\"auto\")\n",
        "  clf.fit(X_train,y_train)\n",
        "  print(clf.score(X_test,y_test))"
      ],
      "execution_count": null,
      "outputs": [
        {
          "output_type": "stream",
          "text": [
            "0.1\n",
            "0.0\n",
            "0.1\n",
            "0.1\n",
            "0.0\n"
          ],
          "name": "stdout"
        }
      ]
    },
    {
      "cell_type": "code",
      "metadata": {
        "id": "vTci9Y_8Vkq9",
        "outputId": "1e77d895-981c-4301-d08c-b74a8ae97805",
        "colab": {
          "base_uri": "https://localhost:8080/"
        }
      },
      "source": [
        "# LogisticRegression\n",
        "from sklearn.linear_model import LogisticRegression\n",
        "from sklearn.model_selection import StratifiedKFold\n",
        "skf = StratifiedKFold(n_splits=5)\n",
        "for train_index, test_index in skf.split(features, labels):\n",
        "  X_train, X_test = features[train_index], features[test_index]\n",
        "  y_train, y_test = labels[train_index], labels[test_index]\n",
        "  clf=LogisticRegression(C=1,solver=\"lbfgs\",multi_class=\"multinomial\",max_iter=10000)\n",
        "  clf.fit(X_train,y_train)\n",
        "  print(clf.score(X_test,y_test))\n"
      ],
      "execution_count": null,
      "outputs": [
        {
          "output_type": "stream",
          "name": "stderr",
          "text": [
            "/usr/local/lib/python3.10/dist-packages/sklearn/linear_model/_logistic.py:458: ConvergenceWarning: lbfgs failed to converge (status=1):\n",
            "STOP: TOTAL NO. of ITERATIONS REACHED LIMIT.\n",
            "\n",
            "Increase the number of iterations (max_iter) or scale the data as shown in:\n",
            "    https://scikit-learn.org/stable/modules/preprocessing.html\n",
            "Please also refer to the documentation for alternative solver options:\n",
            "    https://scikit-learn.org/stable/modules/linear_model.html#logistic-regression\n",
            "  n_iter_i = _check_optimize_result(\n"
          ]
        },
        {
          "output_type": "stream",
          "name": "stdout",
          "text": [
            "0.4\n",
            "0.5\n",
            "0.6\n",
            "0.6\n",
            "0.4\n"
          ]
        },
        {
          "output_type": "stream",
          "name": "stderr",
          "text": [
            "/usr/local/lib/python3.10/dist-packages/sklearn/linear_model/_logistic.py:458: ConvergenceWarning: lbfgs failed to converge (status=1):\n",
            "STOP: TOTAL NO. of ITERATIONS REACHED LIMIT.\n",
            "\n",
            "Increase the number of iterations (max_iter) or scale the data as shown in:\n",
            "    https://scikit-learn.org/stable/modules/preprocessing.html\n",
            "Please also refer to the documentation for alternative solver options:\n",
            "    https://scikit-learn.org/stable/modules/linear_model.html#logistic-regression\n",
            "  n_iter_i = _check_optimize_result(\n"
          ]
        }
      ]
    },
    {
      "cell_type": "markdown",
      "source": [
        "con features, 0.9 de score/accuracy"
      ],
      "metadata": {
        "id": "AuZLFmNRVpTl"
      }
    },
    {
      "cell_type": "markdown",
      "source": [
        "# SVC"
      ],
      "metadata": {
        "id": "mOOzhFefW4iu"
      }
    },
    {
      "cell_type": "code",
      "metadata": {
        "id": "KERCkxM2UosM",
        "outputId": "60dc42b5-56c8-4be1-a75c-372eb06e94c3",
        "colab": {
          "base_uri": "https://localhost:8080/",
          "height": 102
        }
      },
      "source": [
        "skf = StratifiedKFold(n_splits=5)\n",
        "#clf = clasificador\n",
        "for train_index, test_index in skf.split(features, labels):\n",
        "  X_train, X_test = features[train_index], features[test_index]\n",
        "  y_train, y_test = labels[train_index], labels[test_index]\n",
        "  clf=SVC(kernel=\"linear\",max_iter=10000,gamma=\"auto\")\n",
        "  clf.fit(X_train,y_train)\n",
        "  print(clf.score(X_test,y_test))"
      ],
      "execution_count": null,
      "outputs": [
        {
          "output_type": "stream",
          "text": [
            "1.0\n",
            "0.7\n",
            "0.8\n",
            "1.0\n",
            "1.0\n"
          ],
          "name": "stdout"
        }
      ]
    },
    {
      "cell_type": "markdown",
      "source": [
        "Primer pregunta, sobre cual es mejor, este último, accuracy= 1\n",
        "?"
      ],
      "metadata": {
        "id": "-F0OPPVyV1S-"
      }
    },
    {
      "cell_type": "code",
      "metadata": {
        "id": "Mlq_j6JcGK-X",
        "colab": {
          "base_uri": "https://localhost:8080/",
          "height": 141
        },
        "outputId": "a9fa32c6-e519-4e85-c986-ae54d14e0d13"
      },
      "source": [
        "Stratified K-Folding (K=5) tiene que ver en como se dividien los datos y la técnica que me conviene para esta cantidad"
      ],
      "execution_count": null,
      "outputs": [
        {
          "output_type": "error",
          "ename": "SyntaxError",
          "evalue": "ignored",
          "traceback": [
            "\u001b[0;36m  File \u001b[0;32m\"<ipython-input-69-b5f98ea183d0>\"\u001b[0;36m, line \u001b[0;32m1\u001b[0m\n\u001b[0;31m    Stratified K-Folding (K=5) tiene que ver en como se dividien los datos y la técnica que me conviene para esta cantidad\u001b[0m\n\u001b[0m               ^\u001b[0m\n\u001b[0;31mSyntaxError\u001b[0m\u001b[0;31m:\u001b[0m invalid syntax\n"
          ]
        }
      ]
    },
    {
      "cell_type": "code",
      "source": [
        "Pregunta 1\n",
        "Cuántas muestras corresponden a una grabación de un número en particular?\n",
        "\n",
        "\n",
        "\n",
        "21168"
      ],
      "metadata": {
        "id": "RBSSgZANaXo_"
      },
      "execution_count": null,
      "outputs": []
    },
    {
      "cell_type": "markdown",
      "source": [],
      "metadata": {
        "id": "S0I-NM6caYRT"
      }
    },
    {
      "cell_type": "markdown",
      "source": [
        "Pregunta 2\n",
        "Debido a la cantidad de samples que se tienen, cuál es el método de validación mas propicio?\n",
        "\n",
        "\n",
        "Cross-Validation\n",
        "\n",
        "\n",
        "Leave One Out\n",
        "\n",
        "\n",
        "**Stratified K-Folding (K=5)** <<-- este\n",
        "\n",
        "Stratified K-Folding (K=3)"
      ],
      "metadata": {
        "id": "BaVuiLFFagcO"
      }
    },
    {
      "cell_type": "code",
      "source": [
        "Pregunta 3\n",
        "Cómo queda representado cada audio a partir de sus MFCCs?\n",
        "\n",
        "\n",
        "Con un array cuyo shape es (22168,), donde cada elemento es una muestra temporal.\n",
        "\n",
        "\n",
        "Con un array cuyo shape es (20,42), donde cada columna corresponde a una banda de frecuencias y cada fila a una franja temporal.\n",
        "\n",
        "\n",
        "Con un array cuyo shape es (20,42), donde cada fila corresponde a una banda de frecuencias y cada columna a una franja temporal.  <-- este"
      ],
      "metadata": {
        "id": "iGUTzbCPames"
      },
      "execution_count": null,
      "outputs": []
    },
    {
      "cell_type": "code",
      "source": [
        "Pregunta 4\n",
        "Indique cuáles de los siguientes features podrían utilizarse para clasificar los audios:\n",
        "\n",
        "Si tiene alguna duda, deje este punto para el final y compare la performance de los distintos clasificadores usando estos features.\n",
        "\n",
        "\n",
        "Media de las filas de la matriz de MFCC\n",
        "\n",
        "\n",
        "Media de las columnas de la matriz de MFCC\n",
        "\n",
        "\n",
        "Desvío estandar de las filas de la matriz de MFCC\n",
        "\n",
        "\n",
        "Desvío estandar de las columnas de la matriz de MFCC\n",
        "\n",
        "\n",
        "Mediana de las filas de la matriz de MFCC\n",
        "\n",
        "\n",
        "Mediana de las columnas de la matriz de MFCC\n",
        "\n",
        "\n",
        "Vector de audio original"
      ],
      "metadata": {
        "id": "daDk4A_YaoWV",
        "outputId": "1ed27ca5-17c0-484d-dd50-7b49f83ac576",
        "colab": {
          "base_uri": "https://localhost:8080/",
          "height": 141
        }
      },
      "execution_count": null,
      "outputs": [
        {
          "output_type": "error",
          "ename": "SyntaxError",
          "evalue": "ignored",
          "traceback": [
            "\u001b[0;36m  File \u001b[0;32m\"<ipython-input-70-f727261766ba>\"\u001b[0;36m, line \u001b[0;32m1\u001b[0m\n\u001b[0;31m    Pregunta 4\u001b[0m\n\u001b[0m             ^\u001b[0m\n\u001b[0;31mSyntaxError\u001b[0m\u001b[0;31m:\u001b[0m invalid syntax\n"
          ]
        }
      ]
    },
    {
      "cell_type": "code",
      "source": [],
      "metadata": {
        "id": "8VUFNrWzapt3"
      },
      "execution_count": null,
      "outputs": []
    }
  ]
}