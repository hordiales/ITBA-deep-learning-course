{
 "cells": [
  {
   "cell_type": "code",
   "execution_count": 1,
   "metadata": {},
   "outputs": [],
   "source": [
    "from tensorflow.compat.v1 import ConfigProto\n",
    "from tensorflow.compat.v1 import InteractiveSession\n",
    "config = ConfigProto()\n",
    "config.gpu_options.allow_growth = True\n",
    "session = InteractiveSession(config=config)"
   ]
  },
  {
   "cell_type": "code",
   "execution_count": 2,
   "metadata": {},
   "outputs": [],
   "source": [
    "import pandas as pd\n",
    "import numpy as np\n",
    "import datetime\n",
    "from pandas_summary import DataFrameSummary"
   ]
  },
  {
   "cell_type": "code",
   "execution_count": 3,
   "metadata": {},
   "outputs": [],
   "source": [
    "from tensorflow.keras.utils import to_categorical"
   ]
  },
  {
   "cell_type": "code",
   "execution_count": 4,
   "metadata": {},
   "outputs": [],
   "source": [
    "df = pd.read_feather('train_normalized_data.fth')\n",
    "df_test = pd.read_feather('test_normalized_data.fth')"
   ]
  },
  {
   "cell_type": "code",
   "execution_count": 5,
   "metadata": {},
   "outputs": [],
   "source": [
    "cat_vars = ['Store', 'DayOfWeek', 'Year', 'Month', 'Day', 'StateHoliday', 'CompetitionMonthsOpen', 'Promo2Weeks', \n",
    "            'StoreType', 'Assortment', 'PromoInterval', 'CompetitionOpenSinceYear', 'Promo2SinceYear', 'State', \n",
    "            'Week', 'Events', 'Promo_fw', 'Promo_bw', 'StateHoliday_bool_fw', 'StateHoliday_bool_bw', 'SchoolHoliday_fw', 'SchoolHoliday_bw']\n",
    "\n",
    "cat_vars = ['Store', 'DayOfWeek']"
   ]
  },
  {
   "cell_type": "code",
   "execution_count": 6,
   "metadata": {},
   "outputs": [],
   "source": [
    "contin_vars = ['CompetitionDistance', \n",
    "   'Max_TemperatureC', 'Mean_TemperatureC', 'Min_TemperatureC', 'Precipitationmm',\n",
    "   'Max_Humidity', 'Mean_Humidity', 'Min_Humidity', 'Max_Wind_SpeedKm_h', \n",
    "   'Mean_Wind_SpeedKm_h', 'CloudCover', 'trend', 'trend_DE',\n",
    "   'AfterStateHoliday_bool', 'BeforeStateHoliday_bool', 'Promo', 'SchoolHoliday', 'StateHoliday_bool']\n",
    "contin_vars = ['BeforeStateHoliday_bool', 'Max_TemperatureC']"
   ]
  },
  {
   "cell_type": "code",
   "execution_count": 7,
   "metadata": {},
   "outputs": [],
   "source": [
    "uniques = DataFrameSummary(df[cat_vars]).summary().loc[['uniques']]"
   ]
  },
  {
   "cell_type": "code",
   "execution_count": 8,
   "metadata": {},
   "outputs": [
    {
     "data": {
      "text/html": [
       "<div>\n",
       "<style scoped>\n",
       "    .dataframe tbody tr th:only-of-type {\n",
       "        vertical-align: middle;\n",
       "    }\n",
       "\n",
       "    .dataframe tbody tr th {\n",
       "        vertical-align: top;\n",
       "    }\n",
       "\n",
       "    .dataframe thead th {\n",
       "        text-align: right;\n",
       "    }\n",
       "</style>\n",
       "<table border=\"1\" class=\"dataframe\">\n",
       "  <thead>\n",
       "    <tr style=\"text-align: right;\">\n",
       "      <th></th>\n",
       "      <th>uniques</th>\n",
       "    </tr>\n",
       "  </thead>\n",
       "  <tbody>\n",
       "    <tr>\n",
       "      <th>Store</th>\n",
       "      <td>1115</td>\n",
       "    </tr>\n",
       "    <tr>\n",
       "      <th>DayOfWeek</th>\n",
       "      <td>7</td>\n",
       "    </tr>\n",
       "  </tbody>\n",
       "</table>\n",
       "</div>"
      ],
      "text/plain": [
       "          uniques\n",
       "Store        1115\n",
       "DayOfWeek       7"
      ]
     },
     "execution_count": 8,
     "metadata": {},
     "output_type": "execute_result"
    }
   ],
   "source": [
    "uniques.T"
   ]
  },
  {
   "attachments": {},
   "cell_type": "markdown",
   "metadata": {},
   "source": [
    "# Asignación de dimensión de embeddings"
   ]
  },
  {
   "cell_type": "code",
   "execution_count": 9,
   "metadata": {},
   "outputs": [],
   "source": [
    "cat_var_dict = {'Store': 50, 'DayOfWeek': 2, 'Year': 2, 'Month': 2,\n",
    "'Day': 10, 'StateHoliday': 2, 'CompetitionMonthsOpen': 2,\n",
    "'Promo2Weeks': 1, 'StoreType': 2, 'Assortment': 3, 'PromoInterval': 3,\n",
    "'CompetitionOpenSinceYear': 4, 'Promo2SinceYear': 4, 'State': 6,\n",
    "'Week': 25, 'Events': 4, 'Promo_fw': 1,\n",
    "'Promo_bw': 1, 'StateHoliday_bool_fw': 1,\n",
    "'StateHoliday_bool_bw': 1, 'SchoolHoliday_fw': 1,\n",
    "'SchoolHoliday_bw': 1}"
   ]
  },
  {
   "cell_type": "code",
   "execution_count": 10,
   "metadata": {},
   "outputs": [
    {
     "name": "stdout",
     "output_type": "stream",
     "text": [
      "Store 50 1115 [   0    1    2 ... 1112 1113 1114]\n",
      "\n",
      "DayOfWeek 2 7 [0 1 2 3 4 5 6]\n",
      "\n"
     ]
    }
   ],
   "source": [
    "for v in cat_vars:\n",
    "    uniques_ = df[v].unique()\n",
    "    uniques_.sort()\n",
    "    print(v, cat_var_dict[v], len(uniques_), uniques_)\n",
    "    print()"
   ]
  },
  {
   "attachments": {},
   "cell_type": "markdown",
   "metadata": {},
   "source": [
    "# Definición de modelo"
   ]
  },
  {
   "cell_type": "code",
   "execution_count": 11,
   "metadata": {},
   "outputs": [],
   "source": [
    "add_customers = True\n",
    "log_output = False\n",
    "output_activation = 'linear'"
   ]
  },
  {
   "cell_type": "code",
   "execution_count": 12,
   "metadata": {},
   "outputs": [],
   "source": [
    "from tensorflow.keras.models import Model\n",
    "from tensorflow.keras.callbacks import ModelCheckpoint\n",
    "from tensorflow.keras.optimizers import Adam\n",
    "from tensorflow.keras.layers import Embedding, Input, Flatten, Concatenate, Dense, BatchNormalization, Activation, LeakyReLU, Dropout\n",
    "from tensorflow.keras.regularizers import l2"
   ]
  },
  {
   "cell_type": "code",
   "execution_count": 13,
   "metadata": {},
   "outputs": [],
   "source": [
    "def get_cat_vars_model(cat_vars, uniques, cat_var_dict):\n",
    "    cat_vars_embed_outs = []\n",
    "    cat_var_inputs = []\n",
    "    for cat_var in cat_vars:\n",
    "        cat_var_in = Input(shape=(1,), name=f\"{cat_var}_input\")\n",
    "        cat_var_inputs.append(cat_var_in)\n",
    "        embed_out = Embedding(uniques[cat_var][0], cat_var_dict[cat_var], name=f'{cat_var}_Embed')(cat_var_in)\n",
    "        flatten_out = Flatten(name=f\"{cat_var}_flat\")(embed_out)\n",
    "        cat_vars_embed_outs.append(flatten_out)\n",
    "    return cat_var_inputs, cat_vars_embed_outs\n",
    "\n",
    "def get_cont_vars_input(contin_vars, dense_layer=False):\n",
    "    cont_vars_inputs = []\n",
    "    cont_vars_outputs = []\n",
    "    for cont_var in contin_vars:\n",
    "        cont_var_in = Input(shape=(1,), name=f\"{cont_var}_input\")\n",
    "        cont_vars_inputs.append(cont_var_in)\n",
    "        if dense_layer:\n",
    "            cont_var_out = Dense(1, name=f\"{cont_var}_input\", activation = 'linear')(cont_var_in)\n",
    "            cont_vars_outputs.append(cont_var_out)\n",
    "        else:\n",
    "            cont_vars_outputs.append(cont_var_in)\n",
    "    return cont_vars_inputs, cont_vars_outputs"
   ]
  },
  {
   "cell_type": "code",
   "execution_count": 14,
   "metadata": {},
   "outputs": [],
   "source": [
    "cat_var_inputs, cat_vars_embed_outs = get_cat_vars_model(cat_vars, uniques, cat_var_dict)\n",
    "cont_vars_inputs,  cont_vars_outs= get_cont_vars_input(contin_vars)"
   ]
  },
  {
   "cell_type": "code",
   "execution_count": 15,
   "metadata": {},
   "outputs": [],
   "source": [
    "# Descomentar para ver resultados\n",
    "# cat_vars_embed_outs\n",
    "# cat_var_inputs\n",
    "# cont_vars_inputs\n",
    "# cont_vars_outs"
   ]
  },
  {
   "cell_type": "code",
   "execution_count": 16,
   "metadata": {},
   "outputs": [],
   "source": [
    "first_hidden_units = 1000\n",
    "second_hidden_units = 500\n",
    "l2_lambda = 1e-3\n",
    "merged = Concatenate(name='All_Concatenate')(cat_vars_embed_outs + cont_vars_inputs)\n",
    "x = Dense(first_hidden_units, kernel_initializer=\"uniform\", kernel_regularizer=l2(l2_lambda))(merged)\n",
    "# x = BatchNormalization()(x)\n",
    "x = Activation('relu')(x)\n",
    "# x = LeakyReLU()(x)\n",
    "x = Dense(second_hidden_units, kernel_initializer=\"uniform\", kernel_regularizer=l2(l2_lambda))(x)\n",
    "# x = BatchNormalization()(x)\n",
    "x = Activation('relu')(x)\n",
    "# x = LeakyReLU()(x)\n",
    "\n",
    "output_1 = Dense(1, name='Sales', activation=output_activation)(x)\n",
    "output_2 = Dense(1, name='Customers', activation=output_activation)(x)"
   ]
  },
  {
   "cell_type": "code",
   "execution_count": 17,
   "metadata": {},
   "outputs": [],
   "source": [
    "if add_customers:\n",
    "    model = Model(cat_var_inputs + cont_vars_inputs, [output_1, output_2])\n",
    "else: \n",
    "    model = Model(cat_var_inputs + cont_vars_inputs, [output_1])"
   ]
  },
  {
   "cell_type": "code",
   "execution_count": 18,
   "metadata": {},
   "outputs": [
    {
     "name": "stdout",
     "output_type": "stream",
     "text": [
      "Model: \"model\"\n",
      "__________________________________________________________________________________________________\n",
      " Layer (type)                   Output Shape         Param #     Connected to                     \n",
      "==================================================================================================\n",
      " Store_input (InputLayer)       [(None, 1)]          0           []                               \n",
      "                                                                                                  \n",
      " DayOfWeek_input (InputLayer)   [(None, 1)]          0           []                               \n",
      "                                                                                                  \n",
      " Store_Embed (Embedding)        (None, 1, 50)        55750       ['Store_input[0][0]']            \n",
      "                                                                                                  \n",
      " DayOfWeek_Embed (Embedding)    (None, 1, 2)         14          ['DayOfWeek_input[0][0]']        \n",
      "                                                                                                  \n",
      " Store_flat (Flatten)           (None, 50)           0           ['Store_Embed[0][0]']            \n",
      "                                                                                                  \n",
      " DayOfWeek_flat (Flatten)       (None, 2)            0           ['DayOfWeek_Embed[0][0]']        \n",
      "                                                                                                  \n",
      " BeforeStateHoliday_bool_input   [(None, 1)]         0           []                               \n",
      " (InputLayer)                                                                                     \n",
      "                                                                                                  \n",
      " Max_TemperatureC_input (InputL  [(None, 1)]         0           []                               \n",
      " ayer)                                                                                            \n",
      "                                                                                                  \n",
      " All_Concatenate (Concatenate)  (None, 54)           0           ['Store_flat[0][0]',             \n",
      "                                                                  'DayOfWeek_flat[0][0]',         \n",
      "                                                                  'BeforeStateHoliday_bool_input[0\n",
      "                                                                 ][0]',                           \n",
      "                                                                  'Max_TemperatureC_input[0][0]'] \n",
      "                                                                                                  \n",
      " dense (Dense)                  (None, 1000)         55000       ['All_Concatenate[0][0]']        \n",
      "                                                                                                  \n",
      " activation (Activation)        (None, 1000)         0           ['dense[0][0]']                  \n",
      "                                                                                                  \n",
      " dense_1 (Dense)                (None, 500)          500500      ['activation[0][0]']             \n",
      "                                                                                                  \n",
      " activation_1 (Activation)      (None, 500)          0           ['dense_1[0][0]']                \n",
      "                                                                                                  \n",
      " Sales (Dense)                  (None, 1)            501         ['activation_1[0][0]']           \n",
      "                                                                                                  \n",
      " Customers (Dense)              (None, 1)            501         ['activation_1[0][0]']           \n",
      "                                                                                                  \n",
      "==================================================================================================\n",
      "Total params: 612,266\n",
      "Trainable params: 612,266\n",
      "Non-trainable params: 0\n",
      "__________________________________________________________________________________________________\n"
     ]
    }
   ],
   "source": [
    "# Descomentar para ver\n",
    "model.summary()"
   ]
  },
  {
   "cell_type": "code",
   "execution_count": 19,
   "metadata": {},
   "outputs": [],
   "source": [
    "model.save_weights('initial_weights.hdf5')"
   ]
  },
  {
   "cell_type": "code",
   "execution_count": 20,
   "metadata": {},
   "outputs": [
    {
     "name": "stdout",
     "output_type": "stream",
     "text": [
      "Cantidad en val: 30188, porcentaje: 0.9642465458145908\n"
     ]
    }
   ],
   "source": [
    "df_train = df[df.Date < datetime.datetime(2015, 7, 1)]  \n",
    "df_val = df[df.Date >= datetime.datetime(2015, 7, 1)]\n",
    "print(f'Cantidad en val: {len(df_val)}, porcentaje: {len(df_train)/(len(df_train) + len(df_val))}')"
   ]
  },
  {
   "cell_type": "code",
   "execution_count": 21,
   "metadata": {},
   "outputs": [],
   "source": [
    "from matplotlib import pyplot as plt\n",
    "plt.figure(figsize=(20,5))\n",
    "plt.plot((df_train[df_train['Store']==1]['Sales'].values - df_train[df_train['Store']==1]['Sales'].mean())/df_train[df_train['Store']==1]['Sales'].std())\n",
    "plt.show()\n",
    "plt.figure(figsize=(20,5))\n",
    "plt.plot(np.log(df_train[df_train['Store']==1]['Sales'].values)/np.max(np.log(df_train[df_train['Store']==1]['Sales'].values)))\n",
    "plt.show()"
   ]
  },
  {
   "cell_type": "code",
   "execution_count": 22,
   "metadata": {},
   "outputs": [],
   "source": [
    "stores_mean = {}\n",
    "for store, g_df in df_train.groupby('Store'):\n",
    "    stores_mean[store] = g_df[g_df['Sales'] > 0]['Sales'].mean()"
   ]
  },
  {
   "cell_type": "code",
   "execution_count": 23,
   "metadata": {},
   "outputs": [
    {
     "name": "stderr",
     "output_type": "stream",
     "text": [
      "/var/folders/zf/fg68pxbn0ys0ljbx0b3pmxrw0000gq/T/ipykernel_79808/3553976367.py:1: SettingWithCopyWarning: \n",
      "A value is trying to be set on a copy of a slice from a DataFrame.\n",
      "Try using .loc[row_indexer,col_indexer] = value instead\n",
      "\n",
      "See the caveats in the documentation: https://pandas.pydata.org/pandas-docs/stable/user_guide/indexing.html#returning-a-view-versus-a-copy\n",
      "  df_train.loc[:, 'mean_by_store'] = df_train['Store'].apply(stores_mean.get)\n",
      "/var/folders/zf/fg68pxbn0ys0ljbx0b3pmxrw0000gq/T/ipykernel_79808/3553976367.py:2: SettingWithCopyWarning: \n",
      "A value is trying to be set on a copy of a slice from a DataFrame.\n",
      "Try using .loc[row_indexer,col_indexer] = value instead\n",
      "\n",
      "See the caveats in the documentation: https://pandas.pydata.org/pandas-docs/stable/user_guide/indexing.html#returning-a-view-versus-a-copy\n",
      "  df_val.loc[:, 'mean_by_store'] = df_val['Store'].apply(stores_mean.get)\n",
      "/var/folders/zf/fg68pxbn0ys0ljbx0b3pmxrw0000gq/T/ipykernel_79808/3553976367.py:4: SettingWithCopyWarning: \n",
      "A value is trying to be set on a copy of a slice from a DataFrame.\n",
      "Try using .loc[row_indexer,col_indexer] = value instead\n",
      "\n",
      "See the caveats in the documentation: https://pandas.pydata.org/pandas-docs/stable/user_guide/indexing.html#returning-a-view-versus-a-copy\n",
      "  df_train.loc[:, 'Sales_store'] = df_train['Sales'] - df_train['mean_by_store']\n",
      "/var/folders/zf/fg68pxbn0ys0ljbx0b3pmxrw0000gq/T/ipykernel_79808/3553976367.py:5: SettingWithCopyWarning: \n",
      "A value is trying to be set on a copy of a slice from a DataFrame.\n",
      "Try using .loc[row_indexer,col_indexer] = value instead\n",
      "\n",
      "See the caveats in the documentation: https://pandas.pydata.org/pandas-docs/stable/user_guide/indexing.html#returning-a-view-versus-a-copy\n",
      "  df_val.loc[:, 'Sales_store'] = df_val['Sales'] - df_val['mean_by_store']\n"
     ]
    }
   ],
   "source": [
    "df_train.loc[:, 'mean_by_store'] = df_train['Store'].apply(stores_mean.get)\n",
    "df_val.loc[:, 'mean_by_store'] = df_val['Store'].apply(stores_mean.get)\n",
    "\n",
    "df_train.loc[:, 'Sales_store'] = df_train['Sales'] - df_train['mean_by_store']\n",
    "df_val.loc[:, 'Sales_store'] = df_val['Sales'] - df_val['mean_by_store']"
   ]
  },
  {
   "cell_type": "code",
   "execution_count": 24,
   "metadata": {},
   "outputs": [],
   "source": [
    "from tensorflow.keras import backend as K"
   ]
  },
  {
   "cell_type": "code",
   "execution_count": 25,
   "metadata": {},
   "outputs": [],
   "source": [
    "def rmspe(y_true, y_pred):\n",
    "    return K.sqrt(K.mean(K.square((y_true - y_pred)/y_true)))"
   ]
  },
  {
   "cell_type": "code",
   "execution_count": 26,
   "metadata": {},
   "outputs": [],
   "source": [
    "def get_metric(df, sales_):\n",
    "    return np.sqrt((((df['Sales'] - sales_)/df['Sales'])**2).mean())"
   ]
  },
  {
   "cell_type": "code",
   "execution_count": 27,
   "metadata": {},
   "outputs": [
    {
     "data": {
      "text/plain": [
       "0.3071746085338871"
      ]
     },
     "execution_count": 27,
     "metadata": {},
     "output_type": "execute_result"
    }
   ],
   "source": [
    "get_metric(df_val, df_val['mean_by_store'])"
   ]
  },
  {
   "cell_type": "code",
   "execution_count": 28,
   "metadata": {},
   "outputs": [],
   "source": [
    "all_vars = cat_vars + contin_vars\n",
    "X_train = np.hsplit(df_train[all_vars].values, len(all_vars))\n",
    "X_val = np.hsplit(df_val[all_vars].values, len(all_vars))\n",
    "X_test = np.hsplit(df_test[all_vars].values, len(all_vars))"
   ]
  },
  {
   "cell_type": "code",
   "execution_count": 45,
   "metadata": {},
   "outputs": [],
   "source": [
    "if add_customers:\n",
    "    y_out_columns = ['Sales', 'Customers']\n",
    "else:\n",
    "    y_out_columns = ['Sales_store']\n",
    "    \n",
    "if log_output:\n",
    "    # Escala logaritmica\n",
    "    max_log_y = np.max(np.log(df[y_out_columns])).values\n",
    "    y_train = np.log(df_train[y_out_columns].values)/max_log_y\n",
    "    y_val = np.log(df_val[y_out_columns].values)/max_log_y\n",
    "else:\n",
    "    # Normalización\n",
    "    y_mean = df_train[y_out_columns].mean().values\n",
    "    y_std = df_train[y_out_columns].std().values\n",
    "    y_train = (df_train[y_out_columns].values - y_mean)/y_std\n",
    "    y_val = (df_val[y_out_columns].values - y_mean)/y_std\n",
    "    y_max = df_train[y_out_columns].max().values\n",
    "    y_train = df_train[y_out_columns].values/y_max\n",
    "    y_val = df_val[y_out_columns].values/y_max\n",
    "y_train = np.hsplit(y_train, y_train.shape[1])\n",
    "y_val = np.hsplit(y_val, y_val.shape[1])"
   ]
  },
  {
   "cell_type": "code",
   "execution_count": 46,
   "metadata": {},
   "outputs": [
    {
     "name": "stderr",
     "output_type": "stream",
     "text": [
      "/Users/hordia/miniconda3/envs/course-DL-itba/lib/python3.8/site-packages/keras/optimizers/optimizer_v2/adam.py:110: UserWarning: The `lr` argument is deprecated, use `learning_rate` instead.\n",
      "  super(Adam, self).__init__(name, **kwargs)\n"
     ]
    }
   ],
   "source": [
    "lr = 0.001\n",
    "model.compile(optimizer=Adam(lr=lr), metrics=['mse', rmspe], loss='mse')"
   ]
  },
  {
   "cell_type": "code",
   "execution_count": 31,
   "metadata": {},
   "outputs": [],
   "source": [
    "if add_customers:\n",
    "    checkpoint = ModelCheckpoint('bestmodel.hdf5', monitor='val_Sales_mse', verbose=1, save_best_only=True)\n",
    "else:\n",
    "    checkpoint = ModelCheckpoint('bestmodel.hdf5', monitor='val_loss', verbose=1, save_best_only=True)"
   ]
  },
  {
   "cell_type": "code",
   "execution_count": 32,
   "metadata": {},
   "outputs": [
    {
     "name": "stdout",
     "output_type": "stream",
     "text": [
      "Epoch 1/20\n"
     ]
    },
    {
     "name": "stderr",
     "output_type": "stream",
     "text": [
      "2023-08-29 23:06:03.924120: W tensorflow/core/platform/profile_utils/cpu_utils.cc:128] Failed to get CPU frequency: 0 Hz\n"
     ]
    },
    {
     "name": "stdout",
     "output_type": "stream",
     "text": [
      "\n",
      "Epoch 1: val_Sales_mse improved from inf to 0.00176, saving model to bestmodel.hdf5\n",
      "3181/3181 - 16s - loss: 0.0064 - Sales_loss: 0.0023 - Customers_loss: 8.3917e-04 - Sales_mse: 0.0023 - Sales_rmspe: 0.3540 - Customers_mse: 8.3917e-04 - Customers_rmspe: 0.3184 - val_loss: 0.0026 - val_Sales_loss: 0.0018 - val_Customers_loss: 6.5834e-04 - val_Sales_mse: 0.0018 - val_Sales_rmspe: 0.2507 - val_Customers_mse: 6.5834e-04 - val_Customers_rmspe: 0.2336 - 16s/epoch - 5ms/step\n",
      "Epoch 2/20\n",
      "\n",
      "Epoch 2: val_Sales_mse improved from 0.00176 to 0.00148, saving model to bestmodel.hdf5\n",
      "3181/3181 - 16s - loss: 0.0027 - Sales_loss: 0.0020 - Customers_loss: 5.3335e-04 - Sales_mse: 0.0020 - Sales_rmspe: 0.3281 - Customers_mse: 5.3335e-04 - Customers_rmspe: 0.2780 - val_loss: 0.0020 - val_Sales_loss: 0.0015 - val_Customers_loss: 3.5447e-04 - val_Sales_mse: 0.0015 - val_Sales_rmspe: 0.2401 - val_Customers_mse: 3.5447e-04 - val_Customers_rmspe: 0.2026 - 16s/epoch - 5ms/step\n",
      "Epoch 3/20\n",
      "\n",
      "Epoch 3: val_Sales_mse improved from 0.00148 to 0.00144, saving model to bestmodel.hdf5\n",
      "3181/3181 - 16s - loss: 0.0025 - Sales_loss: 0.0019 - Customers_loss: 4.5900e-04 - Sales_mse: 0.0019 - Sales_rmspe: 0.3202 - Customers_mse: 4.5900e-04 - Customers_rmspe: 0.2626 - val_loss: 0.0020 - val_Sales_loss: 0.0014 - val_Customers_loss: 3.9405e-04 - val_Sales_mse: 0.0014 - val_Sales_rmspe: 0.2478 - val_Customers_mse: 3.9405e-04 - val_Customers_rmspe: 0.2339 - 16s/epoch - 5ms/step\n",
      "Epoch 4/20\n",
      "\n",
      "Epoch 4: val_Sales_mse did not improve from 0.00144\n",
      "3181/3181 - 16s - loss: 0.0025 - Sales_loss: 0.0019 - Customers_loss: 4.5249e-04 - Sales_mse: 0.0019 - Sales_rmspe: 0.3157 - Customers_mse: 4.5249e-04 - Customers_rmspe: 0.2565 - val_loss: 0.0021 - val_Sales_loss: 0.0015 - val_Customers_loss: 5.0178e-04 - val_Sales_mse: 0.0015 - val_Sales_rmspe: 0.2627 - val_Customers_mse: 5.0178e-04 - val_Customers_rmspe: 0.2774 - 16s/epoch - 5ms/step\n",
      "Epoch 5/20\n",
      "\n",
      "Epoch 5: val_Sales_mse did not improve from 0.00144\n",
      "3181/3181 - 16s - loss: 0.0025 - Sales_loss: 0.0019 - Customers_loss: 4.4933e-04 - Sales_mse: 0.0019 - Sales_rmspe: 0.3094 - Customers_mse: 4.4933e-04 - Customers_rmspe: 0.2517 - val_loss: 0.0019 - val_Sales_loss: 0.0015 - val_Customers_loss: 3.4497e-04 - val_Sales_mse: 0.0015 - val_Sales_rmspe: 0.2261 - val_Customers_mse: 3.4497e-04 - val_Customers_rmspe: 0.1952 - 16s/epoch - 5ms/step\n",
      "Epoch 6/20\n",
      "\n",
      "Epoch 6: val_Sales_mse did not improve from 0.00144\n",
      "3181/3181 - 15s - loss: 0.0024 - Sales_loss: 0.0019 - Customers_loss: 4.4679e-04 - Sales_mse: 0.0019 - Sales_rmspe: 0.3070 - Customers_mse: 4.4679e-04 - Customers_rmspe: 0.2494 - val_loss: 0.0023 - val_Sales_loss: 0.0016 - val_Customers_loss: 5.8699e-04 - val_Sales_mse: 0.0016 - val_Sales_rmspe: 0.2725 - val_Customers_mse: 5.8699e-04 - val_Customers_rmspe: 0.2739 - 15s/epoch - 5ms/step\n",
      "Epoch 7/20\n",
      "\n",
      "Epoch 7: val_Sales_mse improved from 0.00144 to 0.00140, saving model to bestmodel.hdf5\n",
      "3181/3181 - 15s - loss: 0.0024 - Sales_loss: 0.0019 - Customers_loss: 4.4752e-04 - Sales_mse: 0.0019 - Sales_rmspe: 0.3059 - Customers_mse: 4.4752e-04 - Customers_rmspe: 0.2482 - val_loss: 0.0019 - val_Sales_loss: 0.0014 - val_Customers_loss: 3.8726e-04 - val_Sales_mse: 0.0014 - val_Sales_rmspe: 0.2386 - val_Customers_mse: 3.8726e-04 - val_Customers_rmspe: 0.2146 - 15s/epoch - 5ms/step\n",
      "Epoch 8/20\n",
      "\n",
      "Epoch 8: val_Sales_mse did not improve from 0.00140\n",
      "3181/3181 - 15s - loss: 0.0024 - Sales_loss: 0.0018 - Customers_loss: 4.4432e-04 - Sales_mse: 0.0018 - Sales_rmspe: 0.3047 - Customers_mse: 4.4432e-04 - Customers_rmspe: 0.2456 - val_loss: 0.0019 - val_Sales_loss: 0.0014 - val_Customers_loss: 4.1201e-04 - val_Sales_mse: 0.0014 - val_Sales_rmspe: 0.2491 - val_Customers_mse: 4.1201e-04 - val_Customers_rmspe: 0.2280 - 15s/epoch - 5ms/step\n",
      "Epoch 9/20\n",
      "\n",
      "Epoch 9: val_Sales_mse improved from 0.00140 to 0.00137, saving model to bestmodel.hdf5\n",
      "3181/3181 - 15s - loss: 0.0024 - Sales_loss: 0.0018 - Customers_loss: 4.4013e-04 - Sales_mse: 0.0018 - Sales_rmspe: 0.3022 - Customers_mse: 4.4013e-04 - Customers_rmspe: 0.2408 - val_loss: 0.0018 - val_Sales_loss: 0.0014 - val_Customers_loss: 3.4730e-04 - val_Sales_mse: 0.0014 - val_Sales_rmspe: 0.2325 - val_Customers_mse: 3.4730e-04 - val_Customers_rmspe: 0.1973 - 15s/epoch - 5ms/step\n",
      "Epoch 10/20\n",
      "\n",
      "Epoch 10: val_Sales_mse improved from 0.00137 to 0.00136, saving model to bestmodel.hdf5\n",
      "3181/3181 - 15s - loss: 0.0023 - Sales_loss: 0.0018 - Customers_loss: 4.1878e-04 - Sales_mse: 0.0018 - Sales_rmspe: 0.2924 - Customers_mse: 4.1878e-04 - Customers_rmspe: 0.2283 - val_loss: 0.0019 - val_Sales_loss: 0.0014 - val_Customers_loss: 3.5450e-04 - val_Sales_mse: 0.0014 - val_Sales_rmspe: 0.2224 - val_Customers_mse: 3.5450e-04 - val_Customers_rmspe: 0.1944 - 15s/epoch - 5ms/step\n",
      "Epoch 11/20\n",
      "\n",
      "Epoch 11: val_Sales_mse did not improve from 0.00136\n",
      "3181/3181 - 15s - loss: 0.0023 - Sales_loss: 0.0017 - Customers_loss: 3.9577e-04 - Sales_mse: 0.0017 - Sales_rmspe: 0.2823 - Customers_mse: 3.9577e-04 - Customers_rmspe: 0.2193 - val_loss: 0.0020 - val_Sales_loss: 0.0014 - val_Customers_loss: 4.2614e-04 - val_Sales_mse: 0.0014 - val_Sales_rmspe: 0.2172 - val_Customers_mse: 4.2614e-04 - val_Customers_rmspe: 0.1873 - 15s/epoch - 5ms/step\n",
      "Epoch 12/20\n",
      "\n",
      "Epoch 12: val_Sales_mse improved from 0.00136 to 0.00128, saving model to bestmodel.hdf5\n",
      "3181/3181 - 16s - loss: 0.0022 - Sales_loss: 0.0017 - Customers_loss: 3.8812e-04 - Sales_mse: 0.0017 - Sales_rmspe: 0.2800 - Customers_mse: 3.8812e-04 - Customers_rmspe: 0.2171 - val_loss: 0.0017 - val_Sales_loss: 0.0013 - val_Customers_loss: 3.2219e-04 - val_Sales_mse: 0.0013 - val_Sales_rmspe: 0.2075 - val_Customers_mse: 3.2219e-04 - val_Customers_rmspe: 0.1801 - 16s/epoch - 5ms/step\n",
      "Epoch 13/20\n",
      "\n",
      "Epoch 13: val_Sales_mse did not improve from 0.00128\n",
      "3181/3181 - 16s - loss: 0.0022 - Sales_loss: 0.0017 - Customers_loss: 3.8241e-04 - Sales_mse: 0.0017 - Sales_rmspe: 0.2786 - Customers_mse: 3.8241e-04 - Customers_rmspe: 0.2155 - val_loss: 0.0017 - val_Sales_loss: 0.0013 - val_Customers_loss: 2.9113e-04 - val_Sales_mse: 0.0013 - val_Sales_rmspe: 0.2081 - val_Customers_mse: 2.9113e-04 - val_Customers_rmspe: 0.1655 - 16s/epoch - 5ms/step\n",
      "Epoch 14/20\n",
      "\n",
      "Epoch 14: val_Sales_mse improved from 0.00128 to 0.00127, saving model to bestmodel.hdf5\n",
      "3181/3181 - 16s - loss: 0.0022 - Sales_loss: 0.0017 - Customers_loss: 3.8024e-04 - Sales_mse: 0.0017 - Sales_rmspe: 0.2788 - Customers_mse: 3.8024e-04 - Customers_rmspe: 0.2153 - val_loss: 0.0017 - val_Sales_loss: 0.0013 - val_Customers_loss: 3.1317e-04 - val_Sales_mse: 0.0013 - val_Sales_rmspe: 0.2188 - val_Customers_mse: 3.1317e-04 - val_Customers_rmspe: 0.1804 - 16s/epoch - 5ms/step\n",
      "Epoch 15/20\n",
      "\n",
      "Epoch 15: val_Sales_mse did not improve from 0.00127\n",
      "3181/3181 - 16s - loss: 0.0022 - Sales_loss: 0.0017 - Customers_loss: 3.7867e-04 - Sales_mse: 0.0017 - Sales_rmspe: 0.2787 - Customers_mse: 3.7867e-04 - Customers_rmspe: 0.2150 - val_loss: 0.0017 - val_Sales_loss: 0.0013 - val_Customers_loss: 2.9617e-04 - val_Sales_mse: 0.0013 - val_Sales_rmspe: 0.2080 - val_Customers_mse: 2.9617e-04 - val_Customers_rmspe: 0.1674 - 16s/epoch - 5ms/step\n",
      "Epoch 16/20\n",
      "\n",
      "Epoch 16: val_Sales_mse did not improve from 0.00127\n",
      "3181/3181 - 16s - loss: 0.0022 - Sales_loss: 0.0017 - Customers_loss: 3.7793e-04 - Sales_mse: 0.0017 - Sales_rmspe: 0.2786 - Customers_mse: 3.7793e-04 - Customers_rmspe: 0.2149 - val_loss: 0.0018 - val_Sales_loss: 0.0013 - val_Customers_loss: 3.4915e-04 - val_Sales_mse: 0.0013 - val_Sales_rmspe: 0.2143 - val_Customers_mse: 3.4915e-04 - val_Customers_rmspe: 0.1860 - 16s/epoch - 5ms/step\n",
      "Epoch 17/20\n",
      "\n",
      "Epoch 17: val_Sales_mse improved from 0.00127 to 0.00126, saving model to bestmodel.hdf5\n",
      "3181/3181 - 15s - loss: 0.0022 - Sales_loss: 0.0017 - Customers_loss: 3.7657e-04 - Sales_mse: 0.0017 - Sales_rmspe: 0.2784 - Customers_mse: 3.7657e-04 - Customers_rmspe: 0.2149 - val_loss: 0.0017 - val_Sales_loss: 0.0013 - val_Customers_loss: 3.5608e-04 - val_Sales_mse: 0.0013 - val_Sales_rmspe: 0.2124 - val_Customers_mse: 3.5608e-04 - val_Customers_rmspe: 0.1866 - 15s/epoch - 5ms/step\n",
      "Epoch 18/20\n",
      "\n",
      "Epoch 18: val_Sales_mse did not improve from 0.00126\n",
      "3181/3181 - 16s - loss: 0.0022 - Sales_loss: 0.0017 - Customers_loss: 3.7662e-04 - Sales_mse: 0.0017 - Sales_rmspe: 0.2783 - Customers_mse: 3.7662e-04 - Customers_rmspe: 0.2146 - val_loss: 0.0017 - val_Sales_loss: 0.0013 - val_Customers_loss: 3.0618e-04 - val_Sales_mse: 0.0013 - val_Sales_rmspe: 0.2092 - val_Customers_mse: 3.0618e-04 - val_Customers_rmspe: 0.1676 - 16s/epoch - 5ms/step\n",
      "Epoch 19/20\n",
      "\n",
      "Epoch 19: val_Sales_mse did not improve from 0.00126\n",
      "3181/3181 - 16s - loss: 0.0022 - Sales_loss: 0.0017 - Customers_loss: 3.7597e-04 - Sales_mse: 0.0017 - Sales_rmspe: 0.2780 - Customers_mse: 3.7597e-04 - Customers_rmspe: 0.2144 - val_loss: 0.0018 - val_Sales_loss: 0.0013 - val_Customers_loss: 3.3815e-04 - val_Sales_mse: 0.0013 - val_Sales_rmspe: 0.2220 - val_Customers_mse: 3.3815e-04 - val_Customers_rmspe: 0.1862 - 16s/epoch - 5ms/step\n",
      "Epoch 20/20\n",
      "\n",
      "Epoch 20: val_Sales_mse did not improve from 0.00126\n",
      "3181/3181 - 17s - loss: 0.0022 - Sales_loss: 0.0017 - Customers_loss: 3.7467e-04 - Sales_mse: 0.0017 - Sales_rmspe: 0.2778 - Customers_mse: 3.7467e-04 - Customers_rmspe: 0.2139 - val_loss: 0.0017 - val_Sales_loss: 0.0013 - val_Customers_loss: 2.8404e-04 - val_Sales_mse: 0.0013 - val_Sales_rmspe: 0.2075 - val_Customers_mse: 2.8404e-04 - val_Customers_rmspe: 0.1716 - 17s/epoch - 5ms/step\n"
     ]
    }
   ],
   "source": [
    "epochs = 20\n",
    "batch_size = 256\n",
    "history = model.fit(X_train, y_train, validation_data=(X_val, y_val),  epochs=epochs, batch_size=batch_size, callbacks=[checkpoint], verbose=2)"
   ]
  },
  {
   "cell_type": "code",
   "execution_count": 38,
   "metadata": {},
   "outputs": [
    {
     "data": {
      "image/png": "[encoded data removed]",
      "text/plain": [
       "<Figure size 640x480 with 1 Axes>"
      ]
     },
     "metadata": {},
     "output_type": "display_data"
    },
    {
     "data": {
      "text/plain": [
       "[<matplotlib.lines.Line2D at 0x2d76233a0>]"
      ]
     },
     "execution_count": 38,
     "metadata": {},
     "output_type": "execute_result"
    },
    {
     "data": {
      "image/png": "[encoded data removed]",
      "text/plain": [
       "<Figure size 640x480 with 1 Axes>"
      ]
     },
     "metadata": {},
     "output_type": "display_data"
    }
   ],
   "source": [
    "plt.plot(history.history['val_loss'])\n",
    "# plt.plot(history.history['val_Customers_mse'])\n",
    "# plt.plot(history.history['val_Sales_mse'])\n",
    "plt.show()\n",
    "plt.plot(history.history['loss'])\n",
    "# plt.plot(history.history['Customers_mse'])\n",
    "# plt.plot(history.history['Sales_mse'])"
   ]
  },
  {
   "attachments": {},
   "cell_type": "markdown",
   "metadata": {},
   "source": [
    "# Métrica"
   ]
  },
  {
   "attachments": {},
   "cell_type": "markdown",
   "metadata": {},
   "source": [
    "$$\n",
    "\\textrm{RMSE} = \\sqrt{\\frac{1}{n} \\sum_{i=1}^{n} \\left(\\frac{\\hat{y}_i - y_i}{y_i}\\right)^2}\n",
    "$$"
   ]
  },
  {
   "cell_type": "code",
   "execution_count": 39,
   "metadata": {},
   "outputs": [
    {
     "name": "stdout",
     "output_type": "stream",
     "text": [
      "944/944 [==============================] - 1s 854us/step - loss: 0.0017 - Sales_loss: 0.0013 - Customers_loss: 3.5608e-04 - Sales_mse: 0.0013 - Sales_rmspe: 0.2091 - Customers_mse: 3.5608e-04 - Customers_rmspe: 0.1833\n"
     ]
    },
    {
     "data": {
      "text/plain": [
       "[0.001735242665745318,\n",
       " 0.0012633248697966337,\n",
       " 0.00035608027246780694,\n",
       " 0.0012633248697966337,\n",
       " 0.20908217132091522,\n",
       " 0.00035608027246780694,\n",
       " 0.18325670063495636]"
      ]
     },
     "execution_count": 39,
     "metadata": {},
     "output_type": "execute_result"
    }
   ],
   "source": [
    "model.evaluate(X_val, y_val)"
   ]
  },
  {
   "cell_type": "code",
   "execution_count": 40,
   "metadata": {},
   "outputs": [
    {
     "name": "stdout",
     "output_type": "stream",
     "text": [
      "  1/944 [..............................] - ETA: 13s - loss: 0.0035 - Sales_loss: 0.0031 - Customers_loss: 2.4983e-04 - Sales_mse: 0.0031 - Sales_rmspe: 0.2250 - Customers_mse: 2.4983e-04 - Customers_rmspe: 0.1413"
     ]
    },
    {
     "name": "stdout",
     "output_type": "stream",
     "text": [
      "944/944 [==============================] - 1s 980us/step - loss: 0.0017 - Sales_loss: 0.0013 - Customers_loss: 3.5608e-04 - Sales_mse: 0.0013 - Sales_rmspe: 0.2091 - Customers_mse: 3.5608e-04 - Customers_rmspe: 0.1833\n"
     ]
    },
    {
     "data": {
      "text/plain": [
       "[0.001735242665745318,\n",
       " 0.0012633248697966337,\n",
       " 0.00035608027246780694,\n",
       " 0.0012633248697966337,\n",
       " 0.20908217132091522,\n",
       " 0.00035608027246780694,\n",
       " 0.18325670063495636]"
      ]
     },
     "execution_count": 40,
     "metadata": {},
     "output_type": "execute_result"
    }
   ],
   "source": [
    "model.load_weights('bestmodel.hdf5')\n",
    "model.evaluate(X_val, y_val)"
   ]
  },
  {
   "cell_type": "code",
   "execution_count": 41,
   "metadata": {},
   "outputs": [],
   "source": [
    "# model.load_weights('bestmodel.hdf5')\n",
    "# model.evaluate(X_val, y_val)\n",
    "# 30188/30188 [==============================] - 5s 172us/step\n",
    "# [0.12197033089921382,\n",
    "#  0.07211007360268763,\n",
    "#  0.037183713050426136,\n",
    "#  0.07211007360268763,\n",
    "#  0.037183713050426136]\n",
    "\n",
    "# [0.12932546436786652,\n",
    "#  0.07751645147800446,\n",
    "#  0.039259567856788635,\n",
    "#  0.07751645147800446,\n",
    "#  0.039259567856788635]"
   ]
  },
  {
   "cell_type": "code",
   "execution_count": 47,
   "metadata": {},
   "outputs": [
    {
     "name": "stdout",
     "output_type": "stream",
     "text": [
      "944/944 [==============================] - 1s 672us/step\n",
      "1284/1284 [==============================] - 1s 730us/step\n"
     ]
    }
   ],
   "source": [
    "if log_output:\n",
    "    if add_customers:\n",
    "        y_pred = np.exp(model.predict(X_val, verbose=1)[0][:, 0]*max_log_y[0])\n",
    "        y_pred_test = np.exp(model.predict(X_test, verbose=1)[0][:, 0]*max_log_y[0])\n",
    "    else:\n",
    "        y_pred = np.exp(model.predict(X_val, verbose=1)*max_log_y)[:,0]\n",
    "        y_pred_test = np.exp(model.predict(X_test, verbose=1)*max_log_y)[:,0]\n",
    "else:\n",
    "    if add_customers:\n",
    "        y_pred = (model.predict(X_val, verbose=1)[0]*y_std[0] + y_mean[0])[:,0]\n",
    "        y_pred_test = (model.predict(X_test, verbose=1)[0]*y_std[0] + y_mean[0])[:,0]\n",
    "    else:\n",
    "#         y_pred = model.predict(X_val, verbose=1)[:,0]*y_std + y_mean\n",
    "#         y_pred_test = model.predict(X_test, verbose=1)[:,0]*y_std + y_mean\n",
    "        y_pred = model.predict(X_val, verbose=1)[:,0]*y_max\n",
    "        y_pred_test = model.predict(X_test, verbose=1)[:,0]*y_max\n",
    "y_pred_test[df_test['Open'] == 0] = 0"
   ]
  },
  {
   "cell_type": "code",
   "execution_count": 48,
   "metadata": {},
   "outputs": [
    {
     "data": {
      "text/plain": [
       "0.5844910620615578"
      ]
     },
     "execution_count": 48,
     "metadata": {},
     "output_type": "execute_result"
    }
   ],
   "source": [
    "np.sqrt((((df_val['Sales'].values - y_pred)/df_val['Sales'].values)**2).sum()/len(y_pred))"
   ]
  },
  {
   "cell_type": "code",
   "execution_count": 49,
   "metadata": {},
   "outputs": [
    {
     "data": {
      "text/plain": [
       "array([7348.5137, 7499.939 , 7658.908 , 7394.362 , 7453.396 , 7353.777 ,\n",
       "       7590.972 , 7533.282 , 7304.8687, 7387.2466], dtype=float32)"
      ]
     },
     "execution_count": 49,
     "metadata": {},
     "output_type": "execute_result"
    }
   ],
   "source": [
    "y_pred_test[:10]"
   ]
  },
  {
   "attachments": {},
   "cell_type": "markdown",
   "metadata": {},
   "source": [
    "# Baseline"
   ]
  },
  {
   "cell_type": "code",
   "execution_count": 50,
   "metadata": {},
   "outputs": [],
   "source": [
    "import pandas as pd\n",
    "sample_csv = pd.read_csv('dataset/rossmann/sample_submission.csv')"
   ]
  },
  {
   "cell_type": "code",
   "execution_count": 51,
   "metadata": {},
   "outputs": [],
   "source": [
    "stores_mean = {}\n",
    "for store, g_df in df.groupby('Store'):\n",
    "    stores_mean[store] = g_df[g_df['Sales'] > 0]['Sales'].mean()"
   ]
  },
  {
   "cell_type": "code",
   "execution_count": 52,
   "metadata": {},
   "outputs": [],
   "source": [
    "df_test['Sales'] = df_test['Store'].apply(stores_mean.get)\n",
    "df_test.loc[df_test['Open'] == 0, 'Sales'] = 0"
   ]
  },
  {
   "cell_type": "code",
   "execution_count": 53,
   "metadata": {},
   "outputs": [
    {
     "data": {
      "text/html": [
       "<div>\n",
       "<style scoped>\n",
       "    .dataframe tbody tr th:only-of-type {\n",
       "        vertical-align: middle;\n",
       "    }\n",
       "\n",
       "    .dataframe tbody tr th {\n",
       "        vertical-align: top;\n",
       "    }\n",
       "\n",
       "    .dataframe thead th {\n",
       "        text-align: right;\n",
       "    }\n",
       "</style>\n",
       "<table border=\"1\" class=\"dataframe\">\n",
       "  <thead>\n",
       "    <tr style=\"text-align: right;\">\n",
       "      <th></th>\n",
       "      <th>Store</th>\n",
       "      <th>Sales</th>\n",
       "    </tr>\n",
       "  </thead>\n",
       "  <tbody>\n",
       "    <tr>\n",
       "      <th>0</th>\n",
       "      <td>0</td>\n",
       "      <td>4759.096031</td>\n",
       "    </tr>\n",
       "    <tr>\n",
       "      <th>1</th>\n",
       "      <td>2</td>\n",
       "      <td>6942.568678</td>\n",
       "    </tr>\n",
       "    <tr>\n",
       "      <th>2</th>\n",
       "      <td>6</td>\n",
       "      <td>8817.050891</td>\n",
       "    </tr>\n",
       "    <tr>\n",
       "      <th>3</th>\n",
       "      <td>7</td>\n",
       "      <td>5539.358418</td>\n",
       "    </tr>\n",
       "    <tr>\n",
       "      <th>4</th>\n",
       "      <td>8</td>\n",
       "      <td>6562.337612</td>\n",
       "    </tr>\n",
       "    <tr>\n",
       "      <th>5</th>\n",
       "      <td>9</td>\n",
       "      <td>5568.420918</td>\n",
       "    </tr>\n",
       "    <tr>\n",
       "      <th>6</th>\n",
       "      <td>10</td>\n",
       "      <td>8030.977041</td>\n",
       "    </tr>\n",
       "    <tr>\n",
       "      <th>7</th>\n",
       "      <td>11</td>\n",
       "      <td>7589.598214</td>\n",
       "    </tr>\n",
       "    <tr>\n",
       "      <th>8</th>\n",
       "      <td>12</td>\n",
       "      <td>5034.747182</td>\n",
       "    </tr>\n",
       "    <tr>\n",
       "      <th>9</th>\n",
       "      <td>13</td>\n",
       "      <td>5508.567394</td>\n",
       "    </tr>\n",
       "  </tbody>\n",
       "</table>\n",
       "</div>"
      ],
      "text/plain": [
       "   Store        Sales\n",
       "0      0  4759.096031\n",
       "1      2  6942.568678\n",
       "2      6  8817.050891\n",
       "3      7  5539.358418\n",
       "4      8  6562.337612\n",
       "5      9  5568.420918\n",
       "6     10  8030.977041\n",
       "7     11  7589.598214\n",
       "8     12  5034.747182\n",
       "9     13  5508.567394"
      ]
     },
     "execution_count": 53,
     "metadata": {},
     "output_type": "execute_result"
    }
   ],
   "source": [
    "df_test[['Store', 'Sales']].head(10)"
   ]
  },
  {
   "cell_type": "code",
   "execution_count": 54,
   "metadata": {},
   "outputs": [
    {
     "data": {
      "text/html": [
       "<div>\n",
       "<style scoped>\n",
       "    .dataframe tbody tr th:only-of-type {\n",
       "        vertical-align: middle;\n",
       "    }\n",
       "\n",
       "    .dataframe tbody tr th {\n",
       "        vertical-align: top;\n",
       "    }\n",
       "\n",
       "    .dataframe thead th {\n",
       "        text-align: right;\n",
       "    }\n",
       "</style>\n",
       "<table border=\"1\" class=\"dataframe\">\n",
       "  <thead>\n",
       "    <tr style=\"text-align: right;\">\n",
       "      <th></th>\n",
       "      <th>Store</th>\n",
       "      <th>Sales</th>\n",
       "    </tr>\n",
       "  </thead>\n",
       "  <tbody>\n",
       "    <tr>\n",
       "      <th>543</th>\n",
       "      <td>702</td>\n",
       "      <td>0.0</td>\n",
       "    </tr>\n",
       "    <tr>\n",
       "      <th>676</th>\n",
       "      <td>878</td>\n",
       "      <td>0.0</td>\n",
       "    </tr>\n",
       "    <tr>\n",
       "      <th>840</th>\n",
       "      <td>1096</td>\n",
       "      <td>0.0</td>\n",
       "    </tr>\n",
       "    <tr>\n",
       "      <th>1399</th>\n",
       "      <td>702</td>\n",
       "      <td>0.0</td>\n",
       "    </tr>\n",
       "    <tr>\n",
       "      <th>1532</th>\n",
       "      <td>878</td>\n",
       "      <td>0.0</td>\n",
       "    </tr>\n",
       "  </tbody>\n",
       "</table>\n",
       "</div>"
      ],
      "text/plain": [
       "      Store  Sales\n",
       "543     702    0.0\n",
       "676     878    0.0\n",
       "840    1096    0.0\n",
       "1399    702    0.0\n",
       "1532    878    0.0"
      ]
     },
     "execution_count": 54,
     "metadata": {},
     "output_type": "execute_result"
    }
   ],
   "source": [
    "df_test[df_test['Open'] == 0][['Store', 'Sales']].head()"
   ]
  },
  {
   "cell_type": "code",
   "execution_count": 55,
   "metadata": {},
   "outputs": [],
   "source": [
    "sample_csv['Sales'] = df_test['Sales']"
   ]
  },
  {
   "cell_type": "code",
   "execution_count": 56,
   "metadata": {},
   "outputs": [],
   "source": [
    "sample_csv.to_csv(f'submision_baseline.csv', index=False)"
   ]
  },
  {
   "cell_type": "code",
   "execution_count": 57,
   "metadata": {},
   "outputs": [
    {
     "data": {
      "text/html": [
       "<div>\n",
       "<style scoped>\n",
       "    .dataframe tbody tr th:only-of-type {\n",
       "        vertical-align: middle;\n",
       "    }\n",
       "\n",
       "    .dataframe tbody tr th {\n",
       "        vertical-align: top;\n",
       "    }\n",
       "\n",
       "    .dataframe thead th {\n",
       "        text-align: right;\n",
       "    }\n",
       "</style>\n",
       "<table border=\"1\" class=\"dataframe\">\n",
       "  <thead>\n",
       "    <tr style=\"text-align: right;\">\n",
       "      <th></th>\n",
       "      <th>Id</th>\n",
       "      <th>Sales</th>\n",
       "    </tr>\n",
       "  </thead>\n",
       "  <tbody>\n",
       "    <tr>\n",
       "      <th>0</th>\n",
       "      <td>1</td>\n",
       "      <td>4759.096031</td>\n",
       "    </tr>\n",
       "    <tr>\n",
       "      <th>1</th>\n",
       "      <td>2</td>\n",
       "      <td>6942.568678</td>\n",
       "    </tr>\n",
       "    <tr>\n",
       "      <th>2</th>\n",
       "      <td>3</td>\n",
       "      <td>8817.050891</td>\n",
       "    </tr>\n",
       "    <tr>\n",
       "      <th>3</th>\n",
       "      <td>4</td>\n",
       "      <td>5539.358418</td>\n",
       "    </tr>\n",
       "    <tr>\n",
       "      <th>4</th>\n",
       "      <td>5</td>\n",
       "      <td>6562.337612</td>\n",
       "    </tr>\n",
       "  </tbody>\n",
       "</table>\n",
       "</div>"
      ],
      "text/plain": [
       "   Id        Sales\n",
       "0   1  4759.096031\n",
       "1   2  6942.568678\n",
       "2   3  8817.050891\n",
       "3   4  5539.358418\n",
       "4   5  6562.337612"
      ]
     },
     "execution_count": 57,
     "metadata": {},
     "output_type": "execute_result"
    }
   ],
   "source": [
    "sample_csv.head()"
   ]
  },
  {
   "attachments": {},
   "cell_type": "markdown",
   "metadata": {},
   "source": [
    "# Sumbit a la competición"
   ]
  },
  {
   "cell_type": "code",
   "execution_count": 58,
   "metadata": {},
   "outputs": [],
   "source": [
    "\n",
    "sample_csv = pd.read_csv('dataset/rossmann/sample_submission.csv')\n",
    "sample_csv['Sales'] = y_pred_test\n",
    "sample_csv.head()\n",
    "\n",
    "sample_csv.to_csv(f'submision_{add_customers}-{log_output}-{output_activation}-{l2_lambda}-{first_hidden_units}-{epochs}-{batch_size}-{lr}.csv', index=False)\n"
   ]
  },
  {
   "attachments": {},
   "cell_type": "markdown",
   "metadata": {},
   "source": [
    "# Analisis de embedings"
   ]
  },
  {
   "cell_type": "code",
   "execution_count": 59,
   "metadata": {},
   "outputs": [],
   "source": [
    "def plot_embed(layer_name, cat_names):\n",
    "    Y = model.get_layer(layer_name).get_weights()[0]\n",
    "    print(Y.shape)\n",
    "    plt.figure(figsize=(8,8))\n",
    "    plt.scatter(-Y[:, 0], -Y[:, 1])\n",
    "    for i, txt in enumerate(cat_names):\n",
    "        plt.annotate(txt, (-Y[i, 0],-Y[i, 1]), xytext = (-5, 8), textcoords = 'offset points')"
   ]
  },
  {
   "cell_type": "code",
   "execution_count": 60,
   "metadata": {},
   "outputs": [
    {
     "name": "stdout",
     "output_type": "stream",
     "text": [
      "(7, 2)\n"
     ]
    },
    {
     "data": {
      "image/png": "[encoded data removed]",
      "text/plain": [
       "<Figure size 800x800 with 1 Axes>"
      ]
     },
     "metadata": {},
     "output_type": "display_data"
    }
   ],
   "source": [
    "model.load_weights('bestmodel.hdf5')\n",
    "plot_embed('DayOfWeek_Embed', ['Mon', 'Tue', 'Wed', 'Thu', 'Fri', 'Sat','Sun'])"
   ]
  },
  {
   "cell_type": "code",
   "execution_count": 61,
   "metadata": {},
   "outputs": [
    {
     "ename": "ValueError",
     "evalue": "No such layer: Month_Embed. Existing layers are: ['Store_input', 'DayOfWeek_input', 'Store_Embed', 'DayOfWeek_Embed', 'Store_flat', 'DayOfWeek_flat', 'BeforeStateHoliday_bool_input', 'Max_TemperatureC_input', 'All_Concatenate', 'dense', 'activation', 'dense_1', 'activation_1', 'Sales', 'Customers'].",
     "output_type": "error",
     "traceback": [
      "\u001b[0;31m---------------------------------------------------------------------------\u001b[0m",
      "\u001b[0;31mValueError\u001b[0m                                Traceback (most recent call last)",
      "\u001b[1;32m/Users/hordia/dev/ML/course-ITBA-DL/course-notebooks-labs/kaggle-rossmann/06-full-model.ipynb Cell 58\u001b[0m in \u001b[0;36m1\n\u001b[0;32m----> <a href='vscode-notebook-cell:/Users/hordia/dev/ML/course-ITBA-DL/course-notebooks-labs/kaggle-rossmann/06-full-model.ipynb#Y111sZmlsZQ%3D%3D?line=0'>1</a>\u001b[0m plot_embed(\u001b[39m'\u001b[39;49m\u001b[39mMonth_Embed\u001b[39;49m\u001b[39m'\u001b[39;49m, \u001b[39mlist\u001b[39;49m(\u001b[39mrange\u001b[39;49m(\u001b[39m12\u001b[39;49m)))\n",
      "\u001b[1;32m/Users/hordia/dev/ML/course-ITBA-DL/course-notebooks-labs/kaggle-rossmann/06-full-model.ipynb Cell 58\u001b[0m in \u001b[0;36m2\n\u001b[1;32m      <a href='vscode-notebook-cell:/Users/hordia/dev/ML/course-ITBA-DL/course-notebooks-labs/kaggle-rossmann/06-full-model.ipynb#Y111sZmlsZQ%3D%3D?line=0'>1</a>\u001b[0m \u001b[39mdef\u001b[39;00m \u001b[39mplot_embed\u001b[39m(layer_name, cat_names):\n\u001b[0;32m----> <a href='vscode-notebook-cell:/Users/hordia/dev/ML/course-ITBA-DL/course-notebooks-labs/kaggle-rossmann/06-full-model.ipynb#Y111sZmlsZQ%3D%3D?line=1'>2</a>\u001b[0m     Y \u001b[39m=\u001b[39m model\u001b[39m.\u001b[39;49mget_layer(layer_name)\u001b[39m.\u001b[39mget_weights()[\u001b[39m0\u001b[39m]\n\u001b[1;32m      <a href='vscode-notebook-cell:/Users/hordia/dev/ML/course-ITBA-DL/course-notebooks-labs/kaggle-rossmann/06-full-model.ipynb#Y111sZmlsZQ%3D%3D?line=2'>3</a>\u001b[0m     \u001b[39mprint\u001b[39m(Y\u001b[39m.\u001b[39mshape)\n\u001b[1;32m      <a href='vscode-notebook-cell:/Users/hordia/dev/ML/course-ITBA-DL/course-notebooks-labs/kaggle-rossmann/06-full-model.ipynb#Y111sZmlsZQ%3D%3D?line=3'>4</a>\u001b[0m     plt\u001b[39m.\u001b[39mfigure(figsize\u001b[39m=\u001b[39m(\u001b[39m8\u001b[39m,\u001b[39m8\u001b[39m))\n",
      "File \u001b[0;32m~/miniconda3/envs/course-DL-itba/lib/python3.8/site-packages/keras/engine/training.py:2922\u001b[0m, in \u001b[0;36mModel.get_layer\u001b[0;34m(self, name, index)\u001b[0m\n\u001b[1;32m   2920\u001b[0m     \u001b[39mif\u001b[39;00m layer\u001b[39m.\u001b[39mname \u001b[39m==\u001b[39m name:\n\u001b[1;32m   2921\u001b[0m       \u001b[39mreturn\u001b[39;00m layer\n\u001b[0;32m-> 2922\u001b[0m   \u001b[39mraise\u001b[39;00m \u001b[39mValueError\u001b[39;00m(\u001b[39mf\u001b[39m\u001b[39m'\u001b[39m\u001b[39mNo such layer: \u001b[39m\u001b[39m{\u001b[39;00mname\u001b[39m}\u001b[39;00m\u001b[39m. Existing layers are: \u001b[39m\u001b[39m'\u001b[39m\n\u001b[1;32m   2923\u001b[0m                    \u001b[39mf\u001b[39m\u001b[39m'\u001b[39m\u001b[39m{\u001b[39;00m\u001b[39mlist\u001b[39m(layer\u001b[39m.\u001b[39mname \u001b[39mfor\u001b[39;00m layer \u001b[39min\u001b[39;00m \u001b[39mself\u001b[39m\u001b[39m.\u001b[39mlayers)\u001b[39m}\u001b[39;00m\u001b[39m.\u001b[39m\u001b[39m'\u001b[39m)\n\u001b[1;32m   2924\u001b[0m \u001b[39mraise\u001b[39;00m \u001b[39mValueError\u001b[39;00m(\u001b[39m'\u001b[39m\u001b[39mProvide either a layer name or layer index at \u001b[39m\u001b[39m'\u001b[39m\n\u001b[1;32m   2925\u001b[0m                  \u001b[39m'\u001b[39m\u001b[39m`get_layer`.\u001b[39m\u001b[39m'\u001b[39m)\n",
      "\u001b[0;31mValueError\u001b[0m: No such layer: Month_Embed. Existing layers are: ['Store_input', 'DayOfWeek_input', 'Store_Embed', 'DayOfWeek_Embed', 'Store_flat', 'DayOfWeek_flat', 'BeforeStateHoliday_bool_input', 'Max_TemperatureC_input', 'All_Concatenate', 'dense', 'activation', 'dense_1', 'activation_1', 'Sales', 'Customers']."
     ]
    }
   ],
   "source": [
    "plot_embed('Month_Embed', list(range(12)))"
   ]
  },
  {
   "cell_type": "code",
   "execution_count": 62,
   "metadata": {},
   "outputs": [],
   "source": [
    "from sklearn.manifold import TSNE\n",
    "from sklearn.decomposition import PCA"
   ]
  },
  {
   "cell_type": "code",
   "execution_count": 63,
   "metadata": {},
   "outputs": [
    {
     "ename": "NameError",
     "evalue": "name 'day_of_week_embedding' is not defined",
     "output_type": "error",
     "traceback": [
      "\u001b[0;31m---------------------------------------------------------------------------\u001b[0m",
      "\u001b[0;31mNameError\u001b[0m                                 Traceback (most recent call last)",
      "\u001b[1;32m/Users/hordia/dev/ML/course-ITBA-DL/course-notebooks-labs/kaggle-rossmann/06-full-model.ipynb Cell 60\u001b[0m in \u001b[0;36m1\n\u001b[0;32m----> <a href='vscode-notebook-cell:/Users/hordia/dev/ML/course-ITBA-DL/course-notebooks-labs/kaggle-rossmann/06-full-model.ipynb#Y113sZmlsZQ%3D%3D?line=0'>1</a>\u001b[0m day_of_week_embedding\u001b[39m.\u001b[39mshape\n",
      "\u001b[0;31mNameError\u001b[0m: name 'day_of_week_embedding' is not defined"
     ]
    }
   ],
   "source": [
    "day_of_week_embedding.shape"
   ]
  },
  {
   "cell_type": "code",
   "execution_count": 64,
   "metadata": {},
   "outputs": [
    {
     "ename": "NameError",
     "evalue": "name 'day_of_week_embedding' is not defined",
     "output_type": "error",
     "traceback": [
      "\u001b[0;31m---------------------------------------------------------------------------\u001b[0m",
      "\u001b[0;31mNameError\u001b[0m                                 Traceback (most recent call last)",
      "\u001b[1;32m/Users/hordia/dev/ML/course-ITBA-DL/course-notebooks-labs/kaggle-rossmann/06-full-model.ipynb Cell 61\u001b[0m in \u001b[0;36m2\n\u001b[1;32m      <a href='vscode-notebook-cell:/Users/hordia/dev/ML/course-ITBA-DL/course-notebooks-labs/kaggle-rossmann/06-full-model.ipynb#Y114sZmlsZQ%3D%3D?line=0'>1</a>\u001b[0m tsne \u001b[39m=\u001b[39m TSNE(n_components\u001b[39m=\u001b[39m\u001b[39m2\u001b[39m, random_state\u001b[39m=\u001b[39m\u001b[39m1\u001b[39m, learning_rate\u001b[39m=\u001b[39m\u001b[39m10\u001b[39m, n_iter\u001b[39m=\u001b[39m\u001b[39m10000\u001b[39m)\n\u001b[0;32m----> <a href='vscode-notebook-cell:/Users/hordia/dev/ML/course-ITBA-DL/course-notebooks-labs/kaggle-rossmann/06-full-model.ipynb#Y114sZmlsZQ%3D%3D?line=1'>2</a>\u001b[0m Y \u001b[39m=\u001b[39m tsne\u001b[39m.\u001b[39mfit_transform(day_of_week_embedding)\n\u001b[1;32m      <a href='vscode-notebook-cell:/Users/hordia/dev/ML/course-ITBA-DL/course-notebooks-labs/kaggle-rossmann/06-full-model.ipynb#Y114sZmlsZQ%3D%3D?line=2'>3</a>\u001b[0m names \u001b[39m=\u001b[39m [\u001b[39m'\u001b[39m\u001b[39mMon\u001b[39m\u001b[39m'\u001b[39m, \u001b[39m'\u001b[39m\u001b[39mTue\u001b[39m\u001b[39m'\u001b[39m, \u001b[39m'\u001b[39m\u001b[39mWed\u001b[39m\u001b[39m'\u001b[39m, \u001b[39m'\u001b[39m\u001b[39mThu\u001b[39m\u001b[39m'\u001b[39m, \u001b[39m'\u001b[39m\u001b[39mFri\u001b[39m\u001b[39m'\u001b[39m, \u001b[39m'\u001b[39m\u001b[39mSat\u001b[39m\u001b[39m'\u001b[39m,\u001b[39m'\u001b[39m\u001b[39mSun\u001b[39m\u001b[39m'\u001b[39m]\n\u001b[1;32m      <a href='vscode-notebook-cell:/Users/hordia/dev/ML/course-ITBA-DL/course-notebooks-labs/kaggle-rossmann/06-full-model.ipynb#Y114sZmlsZQ%3D%3D?line=3'>4</a>\u001b[0m plt\u001b[39m.\u001b[39mfigure(figsize\u001b[39m=\u001b[39m(\u001b[39m8\u001b[39m,\u001b[39m8\u001b[39m))\n",
      "\u001b[0;31mNameError\u001b[0m: name 'day_of_week_embedding' is not defined"
     ]
    }
   ],
   "source": [
    "tsne = TSNE(n_components=2, random_state=1, learning_rate=10, n_iter=10000)\n",
    "Y = tsne.fit_transform(day_of_week_embedding)\n",
    "names = ['Mon', 'Tue', 'Wed', 'Thu', 'Fri', 'Sat','Sun']\n",
    "plt.figure(figsize=(8,8))\n",
    "plt.scatter(-Y[:, 0], -Y[:, 1])\n",
    "for i, txt in enumerate(names):\n",
    "    plt.annotate(txt, (-Y[i, 0],-Y[i, 1]), xytext = (-5, 8), textcoords = 'offset points')"
   ]
  },
  {
   "cell_type": "code",
   "execution_count": null,
   "metadata": {},
   "outputs": [
    {
     "data": {
      "text/plain": [
       "['Store',\n",
       " 'DayOfWeek',\n",
       " 'Year',\n",
       " 'Month',\n",
       " 'Day',\n",
       " 'StateHoliday',\n",
       " 'CompetitionMonthsOpen',\n",
       " 'Promo2Weeks',\n",
       " 'StoreType',\n",
       " 'Assortment',\n",
       " 'PromoInterval',\n",
       " 'CompetitionOpenSinceYear',\n",
       " 'Promo2SinceYear',\n",
       " 'State',\n",
       " 'Week',\n",
       " 'Events',\n",
       " 'Promo_fw',\n",
       " 'Promo_bw',\n",
       " 'StateHoliday_fw',\n",
       " 'StateHoliday_bw',\n",
       " 'SchoolHoliday_fw',\n",
       " 'SchoolHoliday_bw']"
      ]
     },
     "execution_count": 93,
     "metadata": {},
     "output_type": "execute_result"
    }
   ],
   "source": [
    "cat_vars"
   ]
  },
  {
   "attachments": {},
   "cell_type": "markdown",
   "metadata": {},
   "source": [
    "## Store embeddings"
   ]
  },
  {
   "cell_type": "code",
   "execution_count": 65,
   "metadata": {},
   "outputs": [],
   "source": [
    "submodel = Model(cat_var_inputs + cont_vars_inputs, merged)"
   ]
  },
  {
   "cell_type": "code",
   "execution_count": 66,
   "metadata": {},
   "outputs": [
    {
     "name": "stdout",
     "output_type": "stream",
     "text": [
      "Model: \"model_1\"\n",
      "__________________________________________________________________________________________________\n",
      " Layer (type)                   Output Shape         Param #     Connected to                     \n",
      "==================================================================================================\n",
      " Store_input (InputLayer)       [(None, 1)]          0           []                               \n",
      "                                                                                                  \n",
      " DayOfWeek_input (InputLayer)   [(None, 1)]          0           []                               \n",
      "                                                                                                  \n",
      " Store_Embed (Embedding)        (None, 1, 50)        55750       ['Store_input[0][0]']            \n",
      "                                                                                                  \n",
      " DayOfWeek_Embed (Embedding)    (None, 1, 2)         14          ['DayOfWeek_input[0][0]']        \n",
      "                                                                                                  \n",
      " Store_flat (Flatten)           (None, 50)           0           ['Store_Embed[0][0]']            \n",
      "                                                                                                  \n",
      " DayOfWeek_flat (Flatten)       (None, 2)            0           ['DayOfWeek_Embed[0][0]']        \n",
      "                                                                                                  \n",
      " BeforeStateHoliday_bool_input   [(None, 1)]         0           []                               \n",
      " (InputLayer)                                                                                     \n",
      "                                                                                                  \n",
      " Max_TemperatureC_input (InputL  [(None, 1)]         0           []                               \n",
      " ayer)                                                                                            \n",
      "                                                                                                  \n",
      " All_Concatenate (Concatenate)  (None, 54)           0           ['Store_flat[0][0]',             \n",
      "                                                                  'DayOfWeek_flat[0][0]',         \n",
      "                                                                  'BeforeStateHoliday_bool_input[0\n",
      "                                                                 ][0]',                           \n",
      "                                                                  'Max_TemperatureC_input[0][0]'] \n",
      "                                                                                                  \n",
      "==================================================================================================\n",
      "Total params: 55,764\n",
      "Trainable params: 55,764\n",
      "Non-trainable params: 0\n",
      "__________________________________________________________________________________________________\n"
     ]
    }
   ],
   "source": [
    "submodel.summary()"
   ]
  },
  {
   "cell_type": "code",
   "execution_count": 67,
   "metadata": {},
   "outputs": [
    {
     "name": "stdout",
     "output_type": "stream",
     "text": [
      "WARNING:tensorflow:Compiled the loaded model, but the compiled metrics have yet to be built. `model.compile_metrics` will be empty until you train or evaluate the model.\n"
     ]
    }
   ],
   "source": [
    "submodel.save('embeddings_model.hdf5')"
   ]
  },
  {
   "cell_type": "code",
   "execution_count": null,
   "metadata": {},
   "outputs": [],
   "source": []
  },
  {
   "cell_type": "code",
   "execution_count": null,
   "metadata": {},
   "outputs": [],
   "source": []
  },
  {
   "cell_type": "code",
   "execution_count": null,
   "metadata": {},
   "outputs": [],
   "source": []
  },
  {
   "cell_type": "code",
   "execution_count": null,
   "metadata": {},
   "outputs": [],
   "source": []
  }
 ],
 "metadata": {
  "kernelspec": {
   "display_name": "Python 3",
   "language": "python",
   "name": "python3"
  },
  "language_info": {
   "codemirror_mode": {
    "name": "ipython",
    "version": 3
   },
   "file_extension": ".py",
   "mimetype": "text/x-python",
   "name": "python",
   "nbconvert_exporter": "python",
   "pygments_lexer": "ipython3",
   "version": "3.8.13"
  }
 },
 "nbformat": 4,
 "nbformat_minor": 4
}
